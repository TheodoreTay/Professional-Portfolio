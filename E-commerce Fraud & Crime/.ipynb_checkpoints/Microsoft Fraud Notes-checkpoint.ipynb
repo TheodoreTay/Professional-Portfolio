{
 "cells": [
  {
   "cell_type": "markdown",
   "metadata": {},
   "source": [
    "# `- Ecommerce Fraud -`"
   ]
  },
  {
   "cell_type": "markdown",
   "metadata": {},
   "source": [
    "### __Fraud Basics__"
   ]
  },
  {
   "cell_type": "markdown",
   "metadata": {},
   "source": [
    "Definition:\n",
    "> defined as using someone else’s credit card without their consent."
   ]
  },
  {
   "cell_type": "markdown",
   "metadata": {},
   "source": [
    "Fraud types:\n",
    "> Identity theft, Clean fraud, Triangulation fraud,  Chargeback fraud, Friendly fraud"
   ]
  },
  {
   "cell_type": "markdown",
   "metadata": {},
   "source": [
    "Prevalence of fraud:\n",
    "> Digital goods\n"
   ]
  },
  {
   "cell_type": "markdown",
   "metadata": {},
   "source": [
    "Red flags for fraud:\n",
    "* Different shipping address\n",
    "* Sudden change in category of purchase\n",
    "* IP address does not match the country they’re in (time & place)\n",
    "* Frequency of transactions (extra large order)\n",
    "* Operating system in which transaction was made\n",
    "* Biometrics\n",
    "    * Speed of typing, number of mistakes, distinctive behaviors with the mouse\n"
   ]
  },
  {
   "cell_type": "markdown",
   "metadata": {},
   "source": [
    "Actions taken to prevent fraud:\n",
    "* Access fraud dashboard\n",
    "* Look at risk category of customer: low, med, high\n",
    "* Contact customer if med-high\n",
    "    * Call, Persist, Follow through, Succeed\n"
   ]
  },
  {
   "cell_type": "markdown",
   "metadata": {},
   "source": [
    "### __Fraud Algorithm__"
   ]
  },
  {
   "cell_type": "markdown",
   "metadata": {},
   "source": [
    "Algorithm types:\n",
    "* Real-time vs. delayed?\n",
    "* Automated or hybrid?"
   ]
  },
  {
   "cell_type": "markdown",
   "metadata": {},
   "source": [
    "Algorithm components:\n",
    ">* Rule-based\n",
    "    * E.g. after certain no. of transactions at a kiosk, customer flagged as fraud\n",
    "    * Generally not very good due to High False Positive rates\n",
    "* Supervised Learning\n",
    "    * Log reg, knn, decision trees, SVM, deep learning\n",
    "* Unsupervised Learning"
   ]
  },
  {
   "cell_type": "markdown",
   "metadata": {},
   "source": [
    "### __Microsoft Fraud Detection System__"
   ]
  },
  {
   "cell_type": "markdown",
   "metadata": {},
   "source": [
    "1.\tPre-purchase analysis\n",
    "    * Pre-purchase activity\n",
    "        * Sign-ups, logging into accounts without placing orders\n",
    "    * Information collected include:\n",
    "        * Devices, IP, time-zone, geo-location, encrypted payment instruments\n",
    "<br>\n",
    "<br>\n",
    "2.\tChallenges\n",
    "<br>a.\tConcept drift resulting from quick-evolving fraudulent behaviour\n",
    "<br>\n",
    "<br>\n",
    "3.\tFDS divided into 2 Tiers\n",
    "    * Tier 1: Real-time decision by RiskModelScore & rules\n",
    "        * Red, yellow, green scoring system\n",
    "    * Tier 2: Manual review\n",
    "        * Yellow score flags for a manual review\n",
    "        * Red score rejects payment processing and deposits the transaction into the Transaction Repository \n"
   ]
  }
 ],
 "metadata": {
  "kernelspec": {
   "display_name": "Python 2",
   "language": "python",
   "name": "python2"
  },
  "language_info": {
   "codemirror_mode": {
    "name": "ipython",
    "version": 2
   },
   "file_extension": ".py",
   "mimetype": "text/x-python",
   "name": "python",
   "nbconvert_exporter": "python",
   "pygments_lexer": "ipython2",
   "version": "2.7.14"
  }
 },
 "nbformat": 4,
 "nbformat_minor": 2
}
