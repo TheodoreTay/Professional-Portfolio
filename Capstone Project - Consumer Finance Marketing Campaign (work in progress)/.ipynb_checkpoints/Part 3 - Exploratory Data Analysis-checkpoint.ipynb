{
 "cells": [
  {
   "cell_type": "markdown",
   "metadata": {},
   "source": [
    "# `Part 3: Exploratory Data Analysis`"
   ]
  },
  {
   "cell_type": "code",
   "execution_count": 2,
   "metadata": {},
   "outputs": [],
   "source": [
    "import pandas as pd\n",
    "import numpy as np"
   ]
  },
  {
   "cell_type": "code",
   "execution_count": 13,
   "metadata": {},
   "outputs": [],
   "source": [
    "# Reading in the csv file.\n",
    "bank_dataset = pd.read_csv('./bank dataset (cleaned).csv')"
   ]
  },
  {
   "cell_type": "code",
   "execution_count": 20,
   "metadata": {},
   "outputs": [],
   "source": [
    "bank_dataset = bank_dataset.drop(labels='Unnamed: 0', axis=1)"
   ]
  },
  {
   "cell_type": "markdown",
   "metadata": {},
   "source": [
    "Things to note:\n",
    "- The column 'days_passed' has been feature engineered to a column called 'prev_part' which reflects whether or not a customer has been previously contacted for another campaign. 'days_passed' will be used in the EDA process but will eventually be dropped when building ML models.\n",
    "- The target variable 'subscription' has severe class imbalance."
   ]
  },
  {
   "cell_type": "markdown",
   "metadata": {},
   "source": [
    "Limitations of the data:\n",
    "1. Annual salary of customers not included. This may even be more useful than the occupation and education level.\n",
    "2. Demographics not included. This may provide information on whether those living in social isolation may have a greater appreciate for telemarketing.\n",
    "3. It does not include total number of times a customer defaulted credit.\n",
    "4. Magnitude of current housing & personal loan not included."
   ]
  },
  {
   "cell_type": "markdown",
   "metadata": {},
   "source": [
    "***"
   ]
  },
  {
   "cell_type": "markdown",
   "metadata": {},
   "source": [
    "***"
   ]
  },
  {
   "cell_type": "code",
   "execution_count": 21,
   "metadata": {},
   "outputs": [
    {
     "name": "stdout",
     "output_type": "stream",
     "text": [
      "<class 'pandas.core.frame.DataFrame'>\n",
      "RangeIndex: 30474 entries, 0 to 30473\n",
      "Data columns (total 21 columns):\n",
      "age              30474 non-null int64\n",
      "occupation       30474 non-null object\n",
      "marital          30474 non-null object\n",
      "education        30474 non-null object\n",
      "housing_loan     30474 non-null object\n",
      "personal_loan    30474 non-null object\n",
      "contact          30474 non-null object\n",
      "month            30474 non-null object\n",
      "day              30474 non-null object\n",
      "duration         30474 non-null float64\n",
      "contact_freq     30474 non-null int64\n",
      "days_passed      30474 non-null int64\n",
      "contact_bef      30474 non-null int64\n",
      "prev_outcome     30474 non-null object\n",
      "emp_var_rate     30474 non-null float64\n",
      "cpi_index        30474 non-null float64\n",
      "cci_index        30474 non-null float64\n",
      "e3m              30474 non-null float64\n",
      "employees        30474 non-null float64\n",
      "subscription     30474 non-null object\n",
      "prev_part        30474 non-null int64\n",
      "dtypes: float64(6), int64(5), object(10)\n",
      "memory usage: 4.9+ MB\n"
     ]
    }
   ],
   "source": [
    "bank_dataset.info()"
   ]
  },
  {
   "cell_type": "markdown",
   "metadata": {},
   "source": [
    "Potential relationships to explore:\n",
    "1. Mean number of contacts before a *term deposit* is made.\n",
    "2. People above the age of 50 require lesser number of contacts before subscribing to a term deposit."
   ]
  }
 ],
 "metadata": {
  "kernelspec": {
   "display_name": "Python 2",
   "language": "python",
   "name": "python2"
  },
  "language_info": {
   "codemirror_mode": {
    "name": "ipython",
    "version": 2
   },
   "file_extension": ".py",
   "mimetype": "text/x-python",
   "name": "python",
   "nbconvert_exporter": "python",
   "pygments_lexer": "ipython2",
   "version": "2.7.14"
  }
 },
 "nbformat": 4,
 "nbformat_minor": 2
}
