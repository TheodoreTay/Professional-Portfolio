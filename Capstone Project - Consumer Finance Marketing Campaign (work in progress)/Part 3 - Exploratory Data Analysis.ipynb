{
 "cells": [
  {
   "cell_type": "markdown",
   "metadata": {},
   "source": [
    "__Terminology Glossary:__\n",
    "1. Term deposit\n",
    "<p>&#9679; refers to funds placed with a financial institution for a specified amount of time at an agreed interest rate in return.</p>\n",
    "<br>\n",
    "2. Employment variability rate\n",
    "<p>&#9679; refers to volatility in employment/human resource as a result of factors such as fluctuation in product demand, sudden shortage of manpower etc.\n",
    "<br> &#9679; generally you would prefer for this to be as low as possible.</p>\n",
    "<br>\n",
    "3. Euribor\n",
    "<p>&#9679; A daily reference rate, based on averaged interests rates in which Eurozone banks offer to lend unsecured funds to other banks in the euro wholesale money market.</p>"
   ]
  },
  {
   "cell_type": "markdown",
   "metadata": {},
   "source": [
    "Potential relationships to explore:\n",
    "1. Mean number of contacts before a *term deposit* is made.\n",
    "2. People above the age of 50 require lesser number of contacts before subscribing to a term deposit."
   ]
  },
  {
   "cell_type": "markdown",
   "metadata": {},
   "source": [
    "Limitations of the dataset:\n",
    "1. It does not take into account campaign relevance for customer preferences.\n",
    "2. Annual salary not included.\n",
    "3. Magnitude of housing & personal loan not included."
   ]
  }
 ],
 "metadata": {
  "kernelspec": {
   "display_name": "Python 2",
   "language": "python",
   "name": "python2"
  },
  "language_info": {
   "codemirror_mode": {
    "name": "ipython",
    "version": 2
   },
   "file_extension": ".py",
   "mimetype": "text/x-python",
   "name": "python",
   "nbconvert_exporter": "python",
   "pygments_lexer": "ipython2",
   "version": "2.7.14"
  }
 },
 "nbformat": 4,
 "nbformat_minor": 2
}
