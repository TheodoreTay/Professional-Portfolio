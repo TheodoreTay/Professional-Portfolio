{
 "cells": [
  {
   "cell_type": "markdown",
   "metadata": {},
   "source": [
    "# `Project 2: Demonstrating Exploratory Data Analysis`"
   ]
  },
  {
   "cell_type": "markdown",
   "metadata": {},
   "source": [
    "### <font color='blue'> __Purpose:__</font>\n",
    "- The intent of this project is to demonstrate the importance & insightful capabilities of performing Exploratory Data Analysis (EDA)."
   ]
  },
  {
   "cell_type": "markdown",
   "metadata": {},
   "source": [
    "### <font color='blue'> __Objectives:__</font>\n",
    "1. Provide appropriately-labelled graphical visuals to enhance understanding of data.\n",
    "2. Interpret descriptive statistics.\n",
    "3. Formulate sound assumptions & justify observations with concrete statistical hypothesis testing."
   ]
  },
  {
   "cell_type": "markdown",
   "metadata": {},
   "source": [
    "### <font color='blue'> __Why EDA?__</font>\n",
    "\n",
    "1. Gives you an opportunity to familiarise yourself with the data.\n",
    "2. Understand the distribution of the population and detect for any strange behaviour (outliers).\n",
    "3. Allows one to explore relationships between variables.\n",
    "4. Test these observed relationships/hypothesis for any statistical significance so as to provide meaningful business insights.\n",
    "5. Provides preliminary ideas as to how we can potential employ various Machine Learning Models."
   ]
  },
  {
   "cell_type": "markdown",
   "metadata": {},
   "source": [
    "### <font color='blue'> __What does it entail?__</font>\n",
    "\n",
    "1. Get a high-level overview of the distribution of the dataset & detect for the presence of any outliers.\n",
    "> Examples: .describe( ) and boxplots\n",
    "2. Derive & identify meaningful observations/relationships btwn variables.\n",
    "> Examples: .corr( ), Seaborn's pairplot & heatmap\n",
    "3. Prove to see if there is statistical significance in those relationships observed.\n",
    "> Examples: T-test, chi-square test etc."
   ]
  },
  {
   "cell_type": "markdown",
   "metadata": {},
   "source": [
    "### <font color='blue'> __Codes are in Python & the following libraries:__</font>\n",
    "1. Pandas\n",
    "2. NumPy\n",
    "3. SciPy\n",
    "4. Seaborn\n",
    "5. Matplotlib"
   ]
  },
  {
   "cell_type": "markdown",
   "metadata": {},
   "source": [
    "### <font color='blue'> __Problem Statement:__</font>\n",
    "\n",
    "Imagine you are a data scientist working for a real estate company.\n",
    "The company's main aim is to purchase houses at a lower price and at the same time, does not cost much to renovate based on its current condition.\n",
    "Your team lead has divided the project into 2 parts:\n",
    "1. Predicting the value of housing prices based on fixed characteristics (i.e. characteristics which cannot be renovated).\n",
    "2. Identifying renovatable characteristics which bear a lower cost.\n",
    "\n",
    "You and your team are tasked to work on the _first part_.\n",
    "<br>The complete dataset can be found at __[Kaggle: House Prices - Advanced Regression Techniques](https://www.kaggle.com/c/house-prices-advanced-regression-techniques)__"
   ]
  },
  {
   "cell_type": "markdown",
   "metadata": {},
   "source": [
    "***\n",
    "***"
   ]
  },
  {
   "cell_type": "code",
   "execution_count": 2,
   "metadata": {},
   "outputs": [],
   "source": [
    "import pandas as pd\n",
    "import numpy as np\n",
    "import scipy.stats as stats\n",
    "from scipy.stats import t\n",
    "\n",
    "import matplotlib.pyplot as plt\n",
    "plt.style.use('fivethirtyeight')\n",
    "%matplotlib inline\n",
    "%config InlineBackend.figure_format ='retina'\n",
    "\n",
    "import seaborn as sns\n",
    "sns.set_style('whitegrid')\n",
    "\n",
    "from ipywidgets import *\n",
    "from IPython.display import display"
   ]
  },
  {
   "cell_type": "markdown",
   "metadata": {},
   "source": [
    "__Note:__\n",
    "<br> The dataset we are about to import has been \"cleaned\".\n",
    "<br> If you would like to see how I carried out the data munging process for this dataset,\n",
    "please refer to `Project 1: Demonstrating Data Munging`."
   ]
  },
  {
   "cell_type": "code",
   "execution_count": 3,
   "metadata": {},
   "outputs": [],
   "source": [
    "# Importing the dataset.\n",
    "property_tab = pd.read_csv('./Property Dataset (Cleaned).csv')"
   ]
  },
  {
   "cell_type": "code",
   "execution_count": 4,
   "metadata": {},
   "outputs": [],
   "source": [
    "property_tab = property_tab.drop(labels='Unnamed: 0',axis=1)"
   ]
  },
  {
   "cell_type": "markdown",
   "metadata": {},
   "source": [
    "## <font color=pink> __Step 1: High-level overview of dataset__</font>"
   ]
  },
  {
   "cell_type": "code",
   "execution_count": 5,
   "metadata": {},
   "outputs": [
    {
     "data": {
      "text/plain": [
       "(1459, 55)"
      ]
     },
     "execution_count": 5,
     "metadata": {},
     "output_type": "execute_result"
    }
   ],
   "source": [
    "property_tab.shape"
   ]
  },
  {
   "cell_type": "code",
   "execution_count": 6,
   "metadata": {},
   "outputs": [
    {
     "name": "stdout",
     "output_type": "stream",
     "text": [
      "<class 'pandas.core.frame.DataFrame'>\n",
      "RangeIndex: 1459 entries, 0 to 1458\n",
      "Data columns (total 55 columns):\n",
      "MSSubClass       1459 non-null int64\n",
      "MSZoning         1459 non-null object\n",
      "LotFrontage      1459 non-null float64\n",
      "LotArea          1459 non-null int64\n",
      "Street           1459 non-null object\n",
      "LotShape         1459 non-null object\n",
      "LandContour      1459 non-null object\n",
      "Utilities        1459 non-null object\n",
      "LotConfig        1459 non-null object\n",
      "LandSlope        1459 non-null object\n",
      "Neighborhood     1459 non-null object\n",
      "Condition1       1459 non-null object\n",
      "Condition2       1459 non-null object\n",
      "BldgType         1459 non-null object\n",
      "HouseStyle       1459 non-null object\n",
      "OverallQual      1459 non-null int64\n",
      "OverallCond      1459 non-null int64\n",
      "YearBuilt        1459 non-null int64\n",
      "YearRemodAdd     1459 non-null int64\n",
      "RoofStyle        1459 non-null object\n",
      "RoofMatl         1459 non-null object\n",
      "Exterior1st      1459 non-null object\n",
      "Exterior2nd      1459 non-null object\n",
      "ExterQual        1459 non-null object\n",
      "ExterCond        1459 non-null object\n",
      "Foundation       1459 non-null object\n",
      "BsmtQual         1459 non-null object\n",
      "BsmtCond         1459 non-null object\n",
      "BsmtUnfSF        1459 non-null int64\n",
      "TotalBsmtSF      1459 non-null int64\n",
      "Heating          1459 non-null object\n",
      "HeatingQC        1459 non-null object\n",
      "CentralAir       1459 non-null object\n",
      "Electrical       1459 non-null object\n",
      "1stFlrSF         1459 non-null int64\n",
      "2ndFlrSF         1459 non-null int64\n",
      "LowQualFinSF     1459 non-null int64\n",
      "GrLivArea        1459 non-null int64\n",
      "BsmtFullBath     1459 non-null int64\n",
      "BsmtHalfBath     1459 non-null int64\n",
      "FullBath         1459 non-null int64\n",
      "HalfBath         1459 non-null int64\n",
      "BedroomAbvGr     1459 non-null int64\n",
      "KitchenAbvGr     1459 non-null int64\n",
      "KitchenQual      1459 non-null object\n",
      "TotRmsAbvGrd     1459 non-null int64\n",
      "Functional       1459 non-null object\n",
      "Fireplaces       1459 non-null int64\n",
      "GarageType       1459 non-null object\n",
      "GarageArea       1459 non-null int64\n",
      "GarageCond       1459 non-null object\n",
      "SaleCondition    1459 non-null object\n",
      "PavedDrive       1459 non-null object\n",
      "SalePrice        1459 non-null int64\n",
      "YearsRenoed      1459 non-null int64\n",
      "dtypes: float64(1), int64(23), object(31)\n",
      "memory usage: 627.0+ KB\n"
     ]
    }
   ],
   "source": [
    "property_tab.info()"
   ]
  },
  {
   "cell_type": "markdown",
   "metadata": {},
   "source": [
    "### Descriptive Statistics for continuous variables"
   ]
  },
  {
   "cell_type": "code",
   "execution_count": 16,
   "metadata": {},
   "outputs": [],
   "source": [
    "# The .describe() function is only meaningful for continuous variables.\n",
    "# By using the .info() function above, we will pick out those that are continuous."
   ]
  },
  {
   "cell_type": "markdown",
   "metadata": {},
   "source": [
    "Continuous variables: LotFrontage, LotArea, YearBuilt, TotalBsmtSF, 1stFlrSF, 2ndFlrSF, GrLivArea, GarageArea, YearsRenoed, SalePrice"
   ]
  },
  {
   "cell_type": "code",
   "execution_count": 22,
   "metadata": {},
   "outputs": [],
   "source": [
    "cont_variables = property_tab[['LotFrontage', 'LotArea', 'YearBuilt', 'TotalBsmtSF', '1stFlrSF', '2ndFlrSF', 'GrLivArea', 'GarageArea', 'YearsRenoed', 'SalePrice']]"
   ]
  },
  {
   "cell_type": "code",
   "execution_count": 23,
   "metadata": {},
   "outputs": [
    {
     "data": {
      "text/html": [
       "<div>\n",
       "<style scoped>\n",
       "    .dataframe tbody tr th:only-of-type {\n",
       "        vertical-align: middle;\n",
       "    }\n",
       "\n",
       "    .dataframe tbody tr th {\n",
       "        vertical-align: top;\n",
       "    }\n",
       "\n",
       "    .dataframe thead th {\n",
       "        text-align: right;\n",
       "    }\n",
       "</style>\n",
       "<table border=\"1\" class=\"dataframe\">\n",
       "  <thead>\n",
       "    <tr style=\"text-align: right;\">\n",
       "      <th></th>\n",
       "      <th>LotFrontage</th>\n",
       "      <th>LotArea</th>\n",
       "      <th>YearBuilt</th>\n",
       "      <th>TotalBsmtSF</th>\n",
       "      <th>1stFlrSF</th>\n",
       "      <th>2ndFlrSF</th>\n",
       "      <th>GrLivArea</th>\n",
       "      <th>GarageArea</th>\n",
       "      <th>YearsRenoed</th>\n",
       "      <th>SalePrice</th>\n",
       "    </tr>\n",
       "  </thead>\n",
       "  <tbody>\n",
       "    <tr>\n",
       "      <th>count</th>\n",
       "      <td>1459.000000</td>\n",
       "      <td>1459.000000</td>\n",
       "      <td>1459.000000</td>\n",
       "      <td>1459.000000</td>\n",
       "      <td>1459.000000</td>\n",
       "      <td>1459.000000</td>\n",
       "      <td>1459.000000</td>\n",
       "      <td>1459.000000</td>\n",
       "      <td>1459.000000</td>\n",
       "      <td>1459.000000</td>\n",
       "    </tr>\n",
       "    <tr>\n",
       "      <th>mean</th>\n",
       "      <td>70.047936</td>\n",
       "      <td>10517.363948</td>\n",
       "      <td>1971.244003</td>\n",
       "      <td>1057.891021</td>\n",
       "      <td>1162.906785</td>\n",
       "      <td>346.791638</td>\n",
       "      <td>1515.546950</td>\n",
       "      <td>473.030158</td>\n",
       "      <td>13.606580</td>\n",
       "      <td>180930.394791</td>\n",
       "    </tr>\n",
       "    <tr>\n",
       "      <th>std</th>\n",
       "      <td>22.031439</td>\n",
       "      <td>9984.666267</td>\n",
       "      <td>30.199555</td>\n",
       "      <td>438.500975</td>\n",
       "      <td>386.572089</td>\n",
       "      <td>436.610637</td>\n",
       "      <td>525.650927</td>\n",
       "      <td>213.869604</td>\n",
       "      <td>24.482633</td>\n",
       "      <td>79468.964025</td>\n",
       "    </tr>\n",
       "    <tr>\n",
       "      <th>min</th>\n",
       "      <td>21.000000</td>\n",
       "      <td>1300.000000</td>\n",
       "      <td>1872.000000</td>\n",
       "      <td>0.000000</td>\n",
       "      <td>334.000000</td>\n",
       "      <td>0.000000</td>\n",
       "      <td>334.000000</td>\n",
       "      <td>0.000000</td>\n",
       "      <td>0.000000</td>\n",
       "      <td>34900.000000</td>\n",
       "    </tr>\n",
       "    <tr>\n",
       "      <th>25%</th>\n",
       "      <td>60.000000</td>\n",
       "      <td>7549.000000</td>\n",
       "      <td>1954.000000</td>\n",
       "      <td>796.000000</td>\n",
       "      <td>882.000000</td>\n",
       "      <td>0.000000</td>\n",
       "      <td>1129.000000</td>\n",
       "      <td>333.000000</td>\n",
       "      <td>0.000000</td>\n",
       "      <td>129950.000000</td>\n",
       "    </tr>\n",
       "    <tr>\n",
       "      <th>50%</th>\n",
       "      <td>70.049958</td>\n",
       "      <td>9477.000000</td>\n",
       "      <td>1973.000000</td>\n",
       "      <td>992.000000</td>\n",
       "      <td>1088.000000</td>\n",
       "      <td>0.000000</td>\n",
       "      <td>1464.000000</td>\n",
       "      <td>480.000000</td>\n",
       "      <td>0.000000</td>\n",
       "      <td>163000.000000</td>\n",
       "    </tr>\n",
       "    <tr>\n",
       "      <th>75%</th>\n",
       "      <td>79.000000</td>\n",
       "      <td>11603.000000</td>\n",
       "      <td>2000.000000</td>\n",
       "      <td>1298.500000</td>\n",
       "      <td>1391.500000</td>\n",
       "      <td>728.000000</td>\n",
       "      <td>1777.500000</td>\n",
       "      <td>576.000000</td>\n",
       "      <td>20.000000</td>\n",
       "      <td>214000.000000</td>\n",
       "    </tr>\n",
       "    <tr>\n",
       "      <th>max</th>\n",
       "      <td>313.000000</td>\n",
       "      <td>215245.000000</td>\n",
       "      <td>2010.000000</td>\n",
       "      <td>6110.000000</td>\n",
       "      <td>4692.000000</td>\n",
       "      <td>2065.000000</td>\n",
       "      <td>5642.000000</td>\n",
       "      <td>1418.000000</td>\n",
       "      <td>123.000000</td>\n",
       "      <td>755000.000000</td>\n",
       "    </tr>\n",
       "  </tbody>\n",
       "</table>\n",
       "</div>"
      ],
      "text/plain": [
       "       LotFrontage        LotArea    YearBuilt  TotalBsmtSF     1stFlrSF  \\\n",
       "count  1459.000000    1459.000000  1459.000000  1459.000000  1459.000000   \n",
       "mean     70.047936   10517.363948  1971.244003  1057.891021  1162.906785   \n",
       "std      22.031439    9984.666267    30.199555   438.500975   386.572089   \n",
       "min      21.000000    1300.000000  1872.000000     0.000000   334.000000   \n",
       "25%      60.000000    7549.000000  1954.000000   796.000000   882.000000   \n",
       "50%      70.049958    9477.000000  1973.000000   992.000000  1088.000000   \n",
       "75%      79.000000   11603.000000  2000.000000  1298.500000  1391.500000   \n",
       "max     313.000000  215245.000000  2010.000000  6110.000000  4692.000000   \n",
       "\n",
       "          2ndFlrSF    GrLivArea   GarageArea  YearsRenoed      SalePrice  \n",
       "count  1459.000000  1459.000000  1459.000000  1459.000000    1459.000000  \n",
       "mean    346.791638  1515.546950   473.030158    13.606580  180930.394791  \n",
       "std     436.610637   525.650927   213.869604    24.482633   79468.964025  \n",
       "min       0.000000   334.000000     0.000000     0.000000   34900.000000  \n",
       "25%       0.000000  1129.000000   333.000000     0.000000  129950.000000  \n",
       "50%       0.000000  1464.000000   480.000000     0.000000  163000.000000  \n",
       "75%     728.000000  1777.500000   576.000000    20.000000  214000.000000  \n",
       "max    2065.000000  5642.000000  1418.000000   123.000000  755000.000000  "
      ]
     },
     "execution_count": 23,
     "metadata": {},
     "output_type": "execute_result"
    }
   ],
   "source": [
    "cont_variables.describe()"
   ]
  },
  {
   "cell_type": "markdown",
   "metadata": {},
   "source": [
    "__[Interpretation]__\n",
    "\n",
    "1. The average sale price of 'proporties' in this sample is $180930.\n",
    "2. The average 'lot area' & 'ground living area' is 10517 & 1515 square feet, respectively.\n",
    "3. It is not appropriate to interpret the mean for 'TotalBsmtSF', '2ndFlrSF', 'GarageArea' & 'YearsRenoed' in the case as some properties do not have a basement, 2nd floor, garage area and renovation, respectively.\n",
    "<br> You can tell this from the table that the min value is 0.\n",
    "<br> To address this, properties with zeroes need to be filtered out first, before calculating its mean.\n",
    "4. Mean-standard deviation & median-interquartile ranges gives you a raw overview of the distribution within the population. It is handy & quick, but cannot be used to represent a population/interpreted in solitude.\n",
    "5. For columns like 'LotArea', 'TotalBsmtSF', '1stFlrSF' & 'SalePrice', although their mean & median differs, we can assume that this sample employs a normal distribution in general, based on the Central Limit Theorem (normal if n>30)."
   ]
  },
  {
   "cell_type": "markdown",
   "metadata": {},
   "source": [
    "### Outlier detection"
   ]
  },
  {
   "cell_type": "code",
   "execution_count": 25,
   "metadata": {},
   "outputs": [],
   "source": [
    "# Outlier detection for LotFrontage, LotArea, SalePrice\n",
    "variables = property_tab[['LotFrontage','LotArea','SalePrice']]"
   ]
  },
  {
   "cell_type": "code",
   "execution_count": 26,
   "metadata": {},
   "outputs": [
    {
     "data": {
      "text/plain": [
       "LotFrontage        AxesSubplot(0.08,0.125;0.255882x0.755)\n",
       "LotArea        AxesSubplot(0.387059,0.125;0.255882x0.755)\n",
       "SalePrice      AxesSubplot(0.694118,0.125;0.255882x0.755)\n",
       "dtype: object"
      ]
     },
     "execution_count": 26,
     "metadata": {},
     "output_type": "execute_result"
    },
    {
     "data": {
      "image/png": "[encoded data removed]",
      "text/plain": [
       "<matplotlib.figure.Figure at 0x113632dd0>"
      ]
     },
     "metadata": {
      "image/png": {
       "height": 396,
       "width": 848
      }
     },
     "output_type": "display_data"
    }
   ],
   "source": [
    "variables.plot(kind='box',subplots=True,title=' ',figsize=(13,6))"
   ]
  },
  {
   "cell_type": "markdown",
   "metadata": {},
   "source": [
    "__[Interpretation]__\n",
    "\n",
    "1. There are quite afew values that reside after the 75th percentile for 'LotFrontage','LotArea','SalePrice' with 1, 4 & 2 outliers, respectively.\n",
    "2. These could have either been properties built before the year 2000 when land was plentiful (in the case of large lot areas) or really expensive houses with large lot areas."
   ]
  },
  {
   "cell_type": "markdown",
   "metadata": {},
   "source": [
    "***"
   ]
  },
  {
   "cell_type": "markdown",
   "metadata": {},
   "source": [
    "## <font color=pink> __Step 2: derive & identify meaningful relationships btwn variables.__</font>"
   ]
  },
  {
   "cell_type": "code",
   "execution_count": null,
   "metadata": {},
   "outputs": [],
   "source": [
    "property_tab.corr()"
   ]
  },
  {
   "cell_type": "code",
   "execution_count": null,
   "metadata": {},
   "outputs": [],
   "source": []
  },
  {
   "cell_type": "code",
   "execution_count": null,
   "metadata": {},
   "outputs": [],
   "source": [
    "# Step 2: derive & identify meaningful relationships btwn variables.\n",
    "\n",
    "# .corr, .pairplot, heatmap"
   ]
  },
  {
   "cell_type": "markdown",
   "metadata": {},
   "source": [
    "***\n",
    "***\n",
    "***"
   ]
  },
  {
   "cell_type": "code",
   "execution_count": null,
   "metadata": {},
   "outputs": [],
   "source": [
    "#Correlation\n",
    "boston.corr()\n",
    "sns.heatmap (half of it)"
   ]
  },
  {
   "cell_type": "code",
   "execution_count": null,
   "metadata": {},
   "outputs": [],
   "source": [
    "# sns.pairplot\n",
    "# sns.heatmap"
   ]
  },
  {
   "cell_type": "code",
   "execution_count": null,
   "metadata": {},
   "outputs": [],
   "source": [
    "# Plotting afew things at one go.\n",
    "fig, axes = plt.subplots(2,2, figsize=(16,8))\n",
    "df['col2'].plot(figsize=(16,4), color='purple', fontsize=21, ax=axes[0][0])"
   ]
  },
  {
   "cell_type": "code",
   "execution_count": null,
   "metadata": {},
   "outputs": [],
   "source": [
    "# Step 3: Prove to see if there is statistical significance in those relationships observed."
   ]
  }
 ],
 "metadata": {
  "kernelspec": {
   "display_name": "Python 2",
   "language": "python",
   "name": "python2"
  },
  "language_info": {
   "codemirror_mode": {
    "name": "ipython",
    "version": 2
   },
   "file_extension": ".py",
   "mimetype": "text/x-python",
   "name": "python",
   "nbconvert_exporter": "python",
   "pygments_lexer": "ipython2",
   "version": "2.7.14"
  }
 },
 "nbformat": 4,
 "nbformat_minor": 2
}
