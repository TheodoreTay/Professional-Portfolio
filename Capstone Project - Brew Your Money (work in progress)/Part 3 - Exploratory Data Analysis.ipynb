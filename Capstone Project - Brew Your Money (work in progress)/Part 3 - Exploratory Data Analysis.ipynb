{
 "cells": [
  {
   "cell_type": "markdown",
   "metadata": {},
   "source": [
    "# `Part 3: Exploratory Data Analysis`"
   ]
  },
  {
   "cell_type": "code",
   "execution_count": 1,
   "metadata": {},
   "outputs": [],
   "source": [
    "import pandas as pd\n",
    "import numpy as np\n",
    "import scipy.stats as stats\n",
    "from scipy.stats import t"
   ]
  },
  {
   "cell_type": "code",
   "execution_count": 2,
   "metadata": {},
   "outputs": [],
   "source": [
    "# Reading in the csv file.\n",
    "bank_dataset = pd.read_csv('./bank dataset (cleaned).csv')"
   ]
  },
  {
   "cell_type": "code",
   "execution_count": 3,
   "metadata": {},
   "outputs": [],
   "source": [
    "bank_dataset = bank_dataset.drop(labels='Unnamed: 0', axis=1)"
   ]
  },
  {
   "cell_type": "markdown",
   "metadata": {},
   "source": [
    "Things to note:\n",
    "- The column 'days_passed' has been feature engineered to a column called 'prev_part' which reflects whether or not a customer has been previously contacted for another campaign. 'days_passed' will still be used in the EDA process but will eventually be dropped when building ML models.\n",
    "- The target variable 'subscription' has severe class imbalance."
   ]
  },
  {
   "cell_type": "markdown",
   "metadata": {},
   "source": [
    "Limitations of the data:\n",
    "1. Annual salary of customers not included. This may even be more useful than the occupation and education level.\n",
    "2. Demographics not included. This may provide information on whether those living in social isolation may have a greater appreciate for telemarketing.\n",
    "3. It does not include total number of times a customer defaulted credit.\n",
    "4. Magnitude of current housing & personal loan not included.\n",
    "5. Does not contain a text summary of call.\n",
    "\n",
    "(_Please refer to the Data Dictionary.txt file for a comprehensive explanation for each variable._)"
   ]
  },
  {
   "cell_type": "markdown",
   "metadata": {},
   "source": [
    "***"
   ]
  },
  {
   "cell_type": "markdown",
   "metadata": {},
   "source": [
    "***"
   ]
  },
  {
   "cell_type": "markdown",
   "metadata": {},
   "source": [
    "## Sample overview"
   ]
  },
  {
   "cell_type": "code",
   "execution_count": 4,
   "metadata": {},
   "outputs": [],
   "source": [
    "# Create a continuous variable dataframe.\n",
    "continuous = {}\n",
    "for cols in bank_dataset.columns:\n",
    "        if bank_dataset[cols].dtypes == int:\n",
    "            continuous[cols] = bank_dataset[cols]\n",
    "        elif bank_dataset[cols].dtypes == 'float64':\n",
    "            continuous[cols] = bank_dataset[cols]\n",
    "        else:\n",
    "            pass"
   ]
  },
  {
   "cell_type": "code",
   "execution_count": 5,
   "metadata": {},
   "outputs": [],
   "source": [
    "continuous = pd.DataFrame(continuous)"
   ]
  },
  {
   "cell_type": "code",
   "execution_count": 6,
   "metadata": {},
   "outputs": [],
   "source": [
    "continuous['subscription'] = bank_dataset['subscription']"
   ]
  },
  {
   "cell_type": "code",
   "execution_count": 7,
   "metadata": {},
   "outputs": [],
   "source": [
    "### pearsons & pairplot"
   ]
  },
  {
   "cell_type": "code",
   "execution_count": 8,
   "metadata": {},
   "outputs": [],
   "source": [
    "# Create a categorical variable dataframe.\n",
    "categorical = {}\n",
    "for cols in bank_dataset.columns:\n",
    "        if bank_dataset[cols].dtypes == 'O':\n",
    "            categorical[cols] = bank_dataset[cols]\n",
    "        else:\n",
    "            pass"
   ]
  },
  {
   "cell_type": "code",
   "execution_count": 9,
   "metadata": {},
   "outputs": [],
   "source": [
    "categorical = pd.DataFrame(categorical)"
   ]
  },
  {
   "cell_type": "code",
   "execution_count": 10,
   "metadata": {},
   "outputs": [
    {
     "name": "stdout",
     "output_type": "stream",
     "text": [
      "The mean is 39.0288442607.\n",
      "The standard deviation is 10.3322085363.\n",
      "We are 95% confident that the true mean value for 'AGE' is between -1.47427771574813 and 79.53196623711061 years of age.\n"
     ]
    }
   ],
   "source": [
    "# average age (this column & the rest below are assumed to be normally distributed based on Central Limit Theorem).\n",
    "print \"The mean is \" + str(np.mean(bank_dataset['age'])) + \".\"\n",
    "print \"The standard deviation is \" + str(np.std(bank_dataset['age'])) + \".\"\n",
    "t_interval_95 = t.interval(0.95,\n",
    "                           30473,\n",
    "                           loc=np.mean(bank_dataset['age']),\n",
    "                           scale=np.std(bank_dataset['age'])*2)\n",
    "\n",
    "print \"We are 95% confident that the true mean value for 'AGE' is between \" + str(t_interval_95[0]) + \" and \" + str(t_interval_95[1]) + \" years of age.\""
   ]
  },
  {
   "cell_type": "code",
   "execution_count": 11,
   "metadata": {},
   "outputs": [
    {
     "name": "stdout",
     "output_type": "stream",
     "text": [
      "The mean is 2.52142810264.\n",
      "The standard deviation is 2.72027544899.\n",
      "We are 95% confident that the true mean value for 'CONTACT_FREQ' is between -8.142279267621642 and 13.185135472911398 times.\n"
     ]
    }
   ],
   "source": [
    "# average number of contacts performed during this campaign.\n",
    "print \"The mean is \" + str(np.mean(bank_dataset['contact_freq'])) + \".\"\n",
    "print \"The standard deviation is \" + str(np.std(bank_dataset['contact_freq'])) + \".\"\n",
    "t_interval_95 = t.interval(0.95,\n",
    "                           30473,\n",
    "                           loc=np.mean(bank_dataset['contact_freq']),\n",
    "                           scale=np.std(bank_dataset['contact_freq'])*2)\n",
    "\n",
    "print \"We are 95% confident that the true mean value for 'CONTACT_FREQ' is between \" + str(t_interval_95[0]) + \" and \" + str(t_interval_95[1]) + \" times.\""
   ]
  },
  {
   "cell_type": "code",
   "execution_count": 12,
   "metadata": {},
   "outputs": [
    {
     "name": "stdout",
     "output_type": "stream",
     "text": [
      "The mean is 259.547187767.\n",
      "The standard deviation is 261.742388473.\n",
      "We are 95% confident that the true mean value for 'DURATION' is between -8.142279267621642 and 13.185135472911398 seconds.\n"
     ]
    }
   ],
   "source": [
    "# average duration of a phone call.\n",
    "print \"The mean is \" + str(np.mean(bank_dataset['duration'])) + \".\"\n",
    "print \"The standard deviation is \" + str(np.std(bank_dataset['duration'])) + \".\"\n",
    "t_interval_95 = t.interval(0.95,\n",
    "                           30473,\n",
    "                           loc=np.mean(bank_dataset['contact_freq']),\n",
    "                           scale=np.std(bank_dataset['contact_freq'])*2)\n",
    "\n",
    "print \"We are 95% confident that the true mean value for 'DURATION' is between \" + str(t_interval_95[0]) + \" and \" + str(t_interval_95[1]) + \" seconds.\""
   ]
  },
  {
   "cell_type": "code",
   "execution_count": 13,
   "metadata": {},
   "outputs": [],
   "source": [
    "# Determining Outliers\n",
    "boxplot_var = continuous[['age','contact_freq','duration']]"
   ]
  },
  {
   "cell_type": "code",
   "execution_count": 14,
   "metadata": {},
   "outputs": [
    {
     "data": {
      "text/plain": [
       "age                AxesSubplot(0.125,0.11;0.227941x0.77)\n",
       "contact_freq    AxesSubplot(0.398529,0.11;0.227941x0.77)\n",
       "duration        AxesSubplot(0.672059,0.11;0.227941x0.77)\n",
       "dtype: object"
      ]
     },
     "execution_count": 14,
     "metadata": {},
     "output_type": "execute_result"
    }
   ],
   "source": [
    "boxplot_var.plot(kind='box',subplots=True,title=' ',figsize=(20,6))"
   ]
  },
  {
   "cell_type": "markdown",
   "metadata": {},
   "source": [
    "__Comments:__\n",
    "1. There are no real outliers for age and contact_freq given the proximity of all the values that fall out of range.\n",
    "2. The duration column does have some extreme values for call time. This information should still be included as it may reflect some customers wanting to find out more or those whom are interested but are not ready to put down a term deposit. This must work in hand with a text summary of the call."
   ]
  },
  {
   "cell_type": "markdown",
   "metadata": {},
   "source": [
    "## Preconceived opinions"
   ]
  },
  {
   "cell_type": "markdown",
   "metadata": {},
   "source": [
    "1. Customers who are 'entrepreneur'/'management'/'retired' more likely to subscribe compared to 'housemaid'/'admin'/'student'/'self-employed'/'blue-collar'?"
   ]
  },
  {
   "cell_type": "code",
   "execution_count": 15,
   "metadata": {},
   "outputs": [
    {
     "data": {
      "text/plain": [
       "<matplotlib.axes._subplots.AxesSubplot at 0x117c8aed0>"
      ]
     },
     "execution_count": 15,
     "metadata": {},
     "output_type": "execute_result"
    },
    {
     "data": {
      "image/png": "[encoded data removed]",
      "text/plain": [
       "<matplotlib.figure.Figure at 0x1161259d0>"
      ]
     },
     "metadata": {},
     "output_type": "display_data"
    }
   ],
   "source": [
    "bank_dataset[bank_dataset['subscription']==1]['occupation'].value_counts().plot(kind='bar',figsize=(10,6),fontsize=10,rot=50)"
   ]
  },
  {
   "cell_type": "markdown",
   "metadata": {},
   "source": [
    "<br>2. Certain months of a year may perform better in the number of subscriptions due to seasonality factors.\n",
    "<br> As such, which months have the highest number of subscriptions?"
   ]
  },
  {
   "cell_type": "code",
   "execution_count": 16,
   "metadata": {},
   "outputs": [
    {
     "data": {
      "text/plain": [
       "<matplotlib.axes._subplots.AxesSubplot at 0x1181b3c50>"
      ]
     },
     "execution_count": 16,
     "metadata": {},
     "output_type": "execute_result"
    },
    {
     "data": {
      "image/png": "[encoded data removed]",
      "text/plain": [
       "<matplotlib.figure.Figure at 0x118185190>"
      ]
     },
     "metadata": {},
     "output_type": "display_data"
    }
   ],
   "source": [
    "bank_dataset[bank_dataset['subscription']==1]['month'].value_counts().plot(kind='bar',figsize=(10,6),fontsize=10,rot=50)"
   ]
  },
  {
   "cell_type": "markdown",
   "metadata": {},
   "source": [
    "<br> 3. Which day of the week has the higest subscription?\n",
    "<br> (Certain days of a week may be less busy, e.g. Friday being resulting in customers more receptive to telemarketing and in turn, subscribing.)\n"
   ]
  },
  {
   "cell_type": "code",
   "execution_count": 17,
   "metadata": {
    "scrolled": true
   },
   "outputs": [
    {
     "data": {
      "text/plain": [
       "<matplotlib.axes._subplots.AxesSubplot at 0x11836bd50>"
      ]
     },
     "execution_count": 17,
     "metadata": {},
     "output_type": "execute_result"
    },
    {
     "data": {
      "image/png": "[encoded data removed]",
      "text/plain": [
       "<matplotlib.figure.Figure at 0x1184c8150>"
      ]
     },
     "metadata": {},
     "output_type": "display_data"
    }
   ],
   "source": [
    "bank_dataset[bank_dataset['subscription']==1]['day'].value_counts().plot(kind='bar',figsize=(6,4),fontsize=10,rot=50)"
   ]
  },
  {
   "cell_type": "markdown",
   "metadata": {},
   "source": [
    "<br>4. What is the average number of contacts carried out within this campaign before a customer subscribes?"
   ]
  },
  {
   "cell_type": "code",
   "execution_count": 18,
   "metadata": {},
   "outputs": [
    {
     "name": "stdout",
     "output_type": "stream",
     "text": [
      "The mean is 2.02721617418.\n",
      "The standard deviation is 1.62478073762.\n",
      "-----\n",
      "We are 95% confident that the true mean value for 'CONTACT_FREQ' is between [-1.15829519 -0.22528052  0.18806033 ... -1.15829519 -1.15829519\n",
      " -1.15829519] and [5.21272754 4.27971286 3.86637202 ... 5.21272754 5.21272754 5.21272754] times.\n"
     ]
    }
   ],
   "source": [
    "print \"The mean is \" + str(bank_dataset[bank_dataset['subscription']==1]['contact_freq'].mean()) + \".\"\n",
    "print \"The standard deviation is \" + str(bank_dataset[bank_dataset['subscription']==1]['contact_freq'].std()) + \".\"\n",
    "print '-----'\n",
    "t_interval_95 = t.interval(0.95,\n",
    "                           len(bank_dataset[bank_dataset['subscription']==1]['contact_freq'])-1,\n",
    "                           loc=bank_dataset[bank_dataset['subscription']==1]['contact_freq'].mean(),\n",
    "                           scale=(bank_dataset[bank_dataset['subscription']==1]['contact_freq'].std()/(bank_dataset[bank_dataset['subscription']==1]['contact_freq'])**0.5))\n",
    "\n",
    "print \"We are 95% confident that the true mean value for 'CONTACT_FREQ' is between \" + str(t_interval_95[0]) + \" and \" + str(t_interval_95[1]) + \" times.\""
   ]
  },
  {
   "cell_type": "markdown",
   "metadata": {},
   "source": [
    "<br>5. Does duration of phonecall increase with age?\n",
    "- or are the younger generation more willing to put down term deposits because they are happy to wait for the interest upon its maturity and hence, will speak longer over the phone to enquire?"
   ]
  },
  {
   "cell_type": "code",
   "execution_count": 19,
   "metadata": {},
   "outputs": [],
   "source": [
    "ads = continuous[['age','duration','subscription']]"
   ]
  },
  {
   "cell_type": "code",
   "execution_count": 20,
   "metadata": {},
   "outputs": [
    {
     "data": {
      "text/plain": [
       "<seaborn.axisgrid.JointGrid at 0x1190c93d0>"
      ]
     },
     "execution_count": 20,
     "metadata": {},
     "output_type": "execute_result"
    },
    {
     "data": {
      "image/png": "[encoded data removed]",
      "text/plain": [
       "<matplotlib.figure.Figure at 0x1190c9450>"
      ]
     },
     "metadata": {},
     "output_type": "display_data"
    }
   ],
   "source": [
    "import seaborn as sns\n",
    "sns.jointplot(x='age',y='duration',data=ads,kind='reg',color='g')"
   ]
  },
  {
   "cell_type": "markdown",
   "metadata": {},
   "source": [
    "## Hypothesis Testing"
   ]
  },
  {
   "cell_type": "markdown",
   "metadata": {},
   "source": [
    "1. Identifying mean difference in age between customers that subscribe or not."
   ]
  },
  {
   "cell_type": "code",
   "execution_count": null,
   "metadata": {},
   "outputs": [],
   "source": []
  },
  {
   "cell_type": "markdown",
   "metadata": {},
   "source": [
    "Preconceived opinions:\n",
    "1. Customers who were 'entrepreneur'/'management'/'retired' were more likely to subscribe compared to 'housemaid'/'admin'/'student'/'self-employed'/'blue-collar'.\n",
    " - Nothing discriminatory. It is just that certain customer profiles do have cashflow freed up for investment purposes.\n",
    "2. Certain months of a year may perform better in the number of subscriptions due to seasonality factors. As such, which months have the highest number of subscriptions?\n",
    "3. Certain days of a week may be less busy (e.g. Friday) resulting in customers more receptive to telemarketing and in turn, subscribing.\n",
    "4. What is the mean number of contacts before a subscription is made.\n",
    "5. Plot a linear relationship between age & duration to determine if customers of an older age tend to speak for longer over the phone.\n",
    " - An assumption could be that they are more receptive to telemarketing or they are at a life stage whereby term deposits are more applicable to them.\n",
    "\n",
    "Assumptions:\n",
    "1. There is a mean difference in age between customers that subscribe or not.\n",
    "2. Customers who are 'single' or 'divorced' are more likely to subscribe compared to those whom are 'married'.\n",
    "3. Those with 'housing_loan' or 'personal_loan' are less likely to subscribe.\n",
    "4. There is a mean difference in phone call 'duration' between those who subscribed and those who did not.\n",
    "5. Mean difference in consumer confidence index between those who subscribed and those who did not??"
   ]
  },
  {
   "cell_type": "markdown",
   "metadata": {},
   "source": [
    "PCA"
   ]
  }
 ],
 "metadata": {
  "kernelspec": {
   "display_name": "Python 2",
   "language": "python",
   "name": "python2"
  },
  "language_info": {
   "codemirror_mode": {
    "name": "ipython",
    "version": 2
   },
   "file_extension": ".py",
   "mimetype": "text/x-python",
   "name": "python",
   "nbconvert_exporter": "python",
   "pygments_lexer": "ipython2",
   "version": "2.7.14"
  }
 },
 "nbformat": 4,
 "nbformat_minor": 2
}
