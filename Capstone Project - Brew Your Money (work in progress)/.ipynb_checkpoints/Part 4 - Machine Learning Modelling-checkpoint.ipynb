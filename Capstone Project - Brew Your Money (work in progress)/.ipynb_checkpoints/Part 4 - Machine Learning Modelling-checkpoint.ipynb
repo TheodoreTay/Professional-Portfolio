{
 "cells": [
  {
   "cell_type": "markdown",
   "metadata": {},
   "source": [
    "# `Part 4: Machine Learning Modelling`"
   ]
  },
  {
   "cell_type": "code",
   "execution_count": 50,
   "metadata": {},
   "outputs": [],
   "source": [
    "import pandas as pd\n",
    "import numpy as np\n",
    "import matplotlib\n",
    "import matplotlib.pyplot as plt\n",
    "plt.style.use('fivethirtyeight')\n",
    "%matplotlib inline "
   ]
  },
  {
   "cell_type": "code",
   "execution_count": 2,
   "metadata": {},
   "outputs": [],
   "source": [
    "bank_dataset = pd.read_csv('bank dataset (cleaned).csv')"
   ]
  },
  {
   "cell_type": "code",
   "execution_count": 3,
   "metadata": {},
   "outputs": [
    {
     "data": {
      "text/plain": [
       "Index([u'Unnamed: 0', u'age', u'occupation', u'marital', u'education',\n",
       "       u'housing_loan', u'personal_loan', u'contact', u'month', u'day',\n",
       "       u'duration', u'contact_freq', u'days_passed', u'contact_bef',\n",
       "       u'prev_outcome', u'emp_var_rate', u'cpi_index', u'cci_index', u'e3m',\n",
       "       u'employees', u'subscription', u'prev_part'],\n",
       "      dtype='object')"
      ]
     },
     "execution_count": 3,
     "metadata": {},
     "output_type": "execute_result"
    }
   ],
   "source": [
    "bank_dataset.columns"
   ]
  },
  {
   "cell_type": "code",
   "execution_count": 4,
   "metadata": {},
   "outputs": [],
   "source": [
    "bank_dataset = bank_dataset.drop(labels=['Unnamed: 0','days_passed'],axis=1)"
   ]
  },
  {
   "cell_type": "code",
   "execution_count": 5,
   "metadata": {},
   "outputs": [],
   "source": [
    "# Create a continuous variable dataframe.\n",
    "continuous = {}\n",
    "for cols in bank_dataset.columns:\n",
    "        if bank_dataset[cols].dtypes == int:\n",
    "            continuous[cols] = bank_dataset[cols]\n",
    "        elif bank_dataset[cols].dtypes == 'float64':\n",
    "            continuous[cols] = bank_dataset[cols]\n",
    "        else:\n",
    "            pass"
   ]
  },
  {
   "cell_type": "code",
   "execution_count": 6,
   "metadata": {},
   "outputs": [],
   "source": [
    "continuous = pd.DataFrame(continuous)"
   ]
  },
  {
   "cell_type": "code",
   "execution_count": 7,
   "metadata": {},
   "outputs": [],
   "source": [
    "continuous['subscription'] = bank_dataset['subscription']"
   ]
  },
  {
   "cell_type": "code",
   "execution_count": 8,
   "metadata": {},
   "outputs": [],
   "source": [
    "# correlation coefficients.\n",
    "pearsons_table = continuous.corr(method='pearson')"
   ]
  },
  {
   "cell_type": "code",
   "execution_count": 9,
   "metadata": {},
   "outputs": [
    {
     "name": "stdout",
     "output_type": "stream",
     "text": [
      "age             1.000000\n",
      "cci_index       0.124654\n",
      "contact_bef     0.049291\n",
      "contact_freq   -0.002526\n",
      "cpi_index      -0.035569\n",
      "duration        0.008051\n",
      "e3m            -0.036402\n",
      "emp_var_rate   -0.050273\n",
      "employees      -0.064471\n",
      "prev_part       0.050862\n",
      "subscription    0.048737\n",
      "Name: age, dtype: float64\n",
      "age             0.124654\n",
      "cci_index       1.000000\n",
      "contact_bef    -0.027925\n",
      "contact_freq   -0.011671\n",
      "cpi_index       0.027329\n",
      "duration       -0.009502\n",
      "e3m             0.243735\n",
      "emp_var_rate    0.157732\n",
      "employees       0.075385\n",
      "prev_part       0.102327\n",
      "subscription    0.061540\n",
      "Name: cci_index, dtype: float64\n",
      "age             0.049291\n",
      "cci_index      -0.027925\n",
      "contact_bef     1.000000\n",
      "contact_freq   -0.080779\n",
      "cpi_index      -0.176875\n",
      "duration        0.018685\n",
      "e3m            -0.438999\n",
      "emp_var_rate   -0.403654\n",
      "employees      -0.488485\n",
      "prev_part       0.590167\n",
      "subscription    0.228015\n",
      "Name: contact_bef, dtype: float64\n",
      "age             0.049291\n",
      "cci_index      -0.027925\n",
      "contact_bef     1.000000\n",
      "contact_freq   -0.080779\n",
      "cpi_index      -0.176875\n",
      "duration        0.018685\n",
      "e3m            -0.438999\n",
      "emp_var_rate   -0.403654\n",
      "employees      -0.488485\n",
      "prev_part       0.590167\n",
      "subscription    0.228015\n",
      "Name: contact_bef, dtype: float64\n",
      "age            -0.002526\n",
      "cci_index      -0.011671\n",
      "contact_bef    -0.080779\n",
      "contact_freq    1.000000\n",
      "cpi_index       0.127264\n",
      "duration       -0.068369\n",
      "e3m             0.140798\n",
      "emp_var_rate    0.157690\n",
      "employees       0.148022\n",
      "prev_part      -0.054304\n",
      "subscription   -0.069169\n",
      "Name: contact_freq, dtype: float64\n",
      "age            -0.035569\n",
      "cci_index       0.027329\n",
      "contact_bef    -0.176875\n",
      "contact_freq    0.127264\n",
      "cpi_index       1.000000\n",
      "duration        0.012723\n",
      "e3m             0.667198\n",
      "emp_var_rate    0.765986\n",
      "employees       0.488728\n",
      "prev_part      -0.067873\n",
      "subscription   -0.128678\n",
      "Name: cpi_index, dtype: float64\n",
      "age            -0.035569\n",
      "cci_index       0.027329\n",
      "contact_bef    -0.176875\n",
      "contact_freq    0.127264\n",
      "cpi_index       1.000000\n",
      "duration        0.012723\n",
      "e3m             0.667198\n",
      "emp_var_rate    0.765986\n",
      "employees       0.488728\n",
      "prev_part      -0.067873\n",
      "subscription   -0.128678\n",
      "Name: cpi_index, dtype: float64\n",
      "age            -0.035569\n",
      "cci_index       0.027329\n",
      "contact_bef    -0.176875\n",
      "contact_freq    0.127264\n",
      "cpi_index       1.000000\n",
      "duration        0.012723\n",
      "e3m             0.667198\n",
      "emp_var_rate    0.765986\n",
      "employees       0.488728\n",
      "prev_part      -0.067873\n",
      "subscription   -0.128678\n",
      "Name: cpi_index, dtype: float64\n",
      "age             0.008051\n",
      "cci_index      -0.009502\n",
      "contact_bef     0.018685\n",
      "contact_freq   -0.068369\n",
      "cpi_index       0.012723\n",
      "duration        1.000000\n",
      "e3m            -0.028926\n",
      "emp_var_rate   -0.023386\n",
      "employees      -0.040370\n",
      "prev_part       0.046244\n",
      "subscription    0.393540\n",
      "Name: duration, dtype: float64\n",
      "age            -0.036402\n",
      "cci_index       0.243735\n",
      "contact_bef    -0.438999\n",
      "contact_freq    0.140798\n",
      "cpi_index       0.667198\n",
      "duration       -0.028926\n",
      "e3m             1.000000\n",
      "emp_var_rate    0.969408\n",
      "employees       0.944864\n",
      "prev_part      -0.295293\n",
      "subscription   -0.315875\n",
      "Name: e3m, dtype: float64\n",
      "age            -0.036402\n",
      "cci_index       0.243735\n",
      "contact_bef    -0.438999\n",
      "contact_freq    0.140798\n",
      "cpi_index       0.667198\n",
      "duration       -0.028926\n",
      "e3m             1.000000\n",
      "emp_var_rate    0.969408\n",
      "employees       0.944864\n",
      "prev_part      -0.295293\n",
      "subscription   -0.315875\n",
      "Name: e3m, dtype: float64\n",
      "age            -0.036402\n",
      "cci_index       0.243735\n",
      "contact_bef    -0.438999\n",
      "contact_freq    0.140798\n",
      "cpi_index       0.667198\n",
      "duration       -0.028926\n",
      "e3m             1.000000\n",
      "emp_var_rate    0.969408\n",
      "employees       0.944864\n",
      "prev_part      -0.295293\n",
      "subscription   -0.315875\n",
      "Name: e3m, dtype: float64\n",
      "age            -0.036402\n",
      "cci_index       0.243735\n",
      "contact_bef    -0.438999\n",
      "contact_freq    0.140798\n",
      "cpi_index       0.667198\n",
      "duration       -0.028926\n",
      "e3m             1.000000\n",
      "emp_var_rate    0.969408\n",
      "employees       0.944864\n",
      "prev_part      -0.295293\n",
      "subscription   -0.315875\n",
      "Name: e3m, dtype: float64\n",
      "age            -0.050273\n",
      "cci_index       0.157732\n",
      "contact_bef    -0.403654\n",
      "contact_freq    0.157690\n",
      "cpi_index       0.765986\n",
      "duration       -0.023386\n",
      "e3m             0.969408\n",
      "emp_var_rate    1.000000\n",
      "employees       0.900361\n",
      "prev_part      -0.268795\n",
      "subscription   -0.305348\n",
      "Name: emp_var_rate, dtype: float64\n",
      "age            -0.050273\n",
      "cci_index       0.157732\n",
      "contact_bef    -0.403654\n",
      "contact_freq    0.157690\n",
      "cpi_index       0.765986\n",
      "duration       -0.023386\n",
      "e3m             0.969408\n",
      "emp_var_rate    1.000000\n",
      "employees       0.900361\n",
      "prev_part      -0.268795\n",
      "subscription   -0.305348\n",
      "Name: emp_var_rate, dtype: float64\n",
      "age            -0.050273\n",
      "cci_index       0.157732\n",
      "contact_bef    -0.403654\n",
      "contact_freq    0.157690\n",
      "cpi_index       0.765986\n",
      "duration       -0.023386\n",
      "e3m             0.969408\n",
      "emp_var_rate    1.000000\n",
      "employees       0.900361\n",
      "prev_part      -0.268795\n",
      "subscription   -0.305348\n",
      "Name: emp_var_rate, dtype: float64\n",
      "age            -0.050273\n",
      "cci_index       0.157732\n",
      "contact_bef    -0.403654\n",
      "contact_freq    0.157690\n",
      "cpi_index       0.765986\n",
      "duration       -0.023386\n",
      "e3m             0.969408\n",
      "emp_var_rate    1.000000\n",
      "employees       0.900361\n",
      "prev_part      -0.268795\n",
      "subscription   -0.305348\n",
      "Name: emp_var_rate, dtype: float64\n",
      "age            -0.064471\n",
      "cci_index       0.075385\n",
      "contact_bef    -0.488485\n",
      "contact_freq    0.148022\n",
      "cpi_index       0.488728\n",
      "duration       -0.040370\n",
      "e3m             0.944864\n",
      "emp_var_rate    0.900361\n",
      "employees       1.000000\n",
      "prev_part      -0.371005\n",
      "subscription   -0.364252\n",
      "Name: employees, dtype: float64\n",
      "age            -0.064471\n",
      "cci_index       0.075385\n",
      "contact_bef    -0.488485\n",
      "contact_freq    0.148022\n",
      "cpi_index       0.488728\n",
      "duration       -0.040370\n",
      "e3m             0.944864\n",
      "emp_var_rate    0.900361\n",
      "employees       1.000000\n",
      "prev_part      -0.371005\n",
      "subscription   -0.364252\n",
      "Name: employees, dtype: float64\n",
      "age            -0.064471\n",
      "cci_index       0.075385\n",
      "contact_bef    -0.488485\n",
      "contact_freq    0.148022\n",
      "cpi_index       0.488728\n",
      "duration       -0.040370\n",
      "e3m             0.944864\n",
      "emp_var_rate    0.900361\n",
      "employees       1.000000\n",
      "prev_part      -0.371005\n",
      "subscription   -0.364252\n",
      "Name: employees, dtype: float64\n",
      "age             0.050862\n",
      "cci_index       0.102327\n",
      "contact_bef     0.590167\n",
      "contact_freq   -0.054304\n",
      "cpi_index      -0.067873\n",
      "duration        0.046244\n",
      "e3m            -0.295293\n",
      "emp_var_rate   -0.268795\n",
      "employees      -0.371005\n",
      "prev_part       1.000000\n",
      "subscription    0.327516\n",
      "Name: prev_part, dtype: float64\n",
      "age             0.050862\n",
      "cci_index       0.102327\n",
      "contact_bef     0.590167\n",
      "contact_freq   -0.054304\n",
      "cpi_index      -0.067873\n",
      "duration        0.046244\n",
      "e3m            -0.295293\n",
      "emp_var_rate   -0.268795\n",
      "employees      -0.371005\n",
      "prev_part       1.000000\n",
      "subscription    0.327516\n",
      "Name: prev_part, dtype: float64\n",
      "age             0.048737\n",
      "cci_index       0.061540\n",
      "contact_bef     0.228015\n",
      "contact_freq   -0.069169\n",
      "cpi_index      -0.128678\n",
      "duration        0.393540\n",
      "e3m            -0.315875\n",
      "emp_var_rate   -0.305348\n",
      "employees      -0.364252\n",
      "prev_part       0.327516\n",
      "subscription    1.000000\n",
      "Name: subscription, dtype: float64\n"
     ]
    }
   ],
   "source": [
    "for cols in pearsons_table.columns:\n",
    "    for values in pearsons_table[cols]:\n",
    "        if values > 0.5:\n",
    "            print pearsons_table[cols]\n",
    "        elif values in pearsons_table[cols]:\n",
    "            if values < -0.5:\n",
    "                print pearsons_table[cols]\n",
    "        else:\n",
    "            pass"
   ]
  },
  {
   "cell_type": "markdown",
   "metadata": {},
   "source": [
    "## Preliminary modelling (without up or down sampling)"
   ]
  },
  {
   "cell_type": "code",
   "execution_count": 24,
   "metadata": {},
   "outputs": [],
   "source": [
    "y = bank_dataset['subscription']\n",
    "X = bank_dataset.drop(labels='subscription',axis=1)"
   ]
  },
  {
   "cell_type": "markdown",
   "metadata": {},
   "source": [
    "### Baseline model"
   ]
  },
  {
   "cell_type": "code",
   "execution_count": 28,
   "metadata": {},
   "outputs": [
    {
     "data": {
      "text/plain": [
       "0.8734002756448119"
      ]
     },
     "execution_count": 28,
     "metadata": {},
     "output_type": "execute_result"
    }
   ],
   "source": [
    "1.0 - np.mean(y)"
   ]
  },
  {
   "cell_type": "markdown",
   "metadata": {},
   "source": [
    "### a. Logistic regression"
   ]
  },
  {
   "cell_type": "code",
   "execution_count": 10,
   "metadata": {},
   "outputs": [],
   "source": [
    "from sklearn.linear_model import LogisticRegression, LogisticRegressionCV\n",
    "from sklearn.model_selection import cross_val_score\n",
    "from sklearn.preprocessing import RobustScaler\n",
    "from sklearn.metrics import classification_report, confusion_matrix\n",
    "from sklearn.model_selection import train_test_split"
   ]
  },
  {
   "cell_type": "code",
   "execution_count": 14,
   "metadata": {},
   "outputs": [],
   "source": [
    "X_dummed = pd.get_dummies(X, drop_first=True)"
   ]
  },
  {
   "cell_type": "code",
   "execution_count": 21,
   "metadata": {},
   "outputs": [],
   "source": [
    "rs = RobustScaler( )\n",
    "X_scaled = rs.fit_transform(X_dummed)"
   ]
  },
  {
   "cell_type": "code",
   "execution_count": 22,
   "metadata": {},
   "outputs": [
    {
     "data": {
      "text/plain": [
       "0    26616\n",
       "1     3858\n",
       "Name: subscription, dtype: int64"
      ]
     },
     "execution_count": 22,
     "metadata": {},
     "output_type": "execute_result"
    }
   ],
   "source": [
    "bank_dataset['subscription'].value_counts()"
   ]
  },
  {
   "cell_type": "code",
   "execution_count": 23,
   "metadata": {},
   "outputs": [],
   "source": [
    "X_train, X_test, y_train, y_test = train_test_split(X_scaled, y, test_size=0.3, random_state=8)"
   ]
  },
  {
   "cell_type": "code",
   "execution_count": 29,
   "metadata": {},
   "outputs": [
    {
     "name": "stdout",
     "output_type": "stream",
     "text": [
      "[0.8950328  0.89690722 0.90764182 0.89873418 0.89217065 0.90248476\n",
      " 0.89779653 0.90248476 0.90951711 0.89821764]\n",
      "0.9000987471925587\n",
      "0.9271953610280301\n"
     ]
    }
   ],
   "source": [
    "log_reg = LogisticRegression(random_state=8)\n",
    "scores = cross_val_score(log_reg, X_train, y_train, cv=10)\n",
    "auc_scores = cross_val_score(LogisticRegression(), X_train, y_train, cv=10, scoring='roc_auc')\n",
    "print scores\n",
    "print np.mean(scores)\n",
    "print np.mean(auc_scores)\n"
   ]
  },
  {
   "cell_type": "code",
   "execution_count": 33,
   "metadata": {},
   "outputs": [
    {
     "name": "stdout",
     "output_type": "stream",
     "text": [
      "0.902110904517117\n"
     ]
    }
   ],
   "source": [
    "log_reg.fit(X_train, y_train)\n",
    "print log_reg.score(X_test, y_test)"
   ]
  },
  {
   "cell_type": "code",
   "execution_count": 56,
   "metadata": {},
   "outputs": [
    {
     "data": {
      "text/html": [
       "<div>\n",
       "<style scoped>\n",
       "    .dataframe tbody tr th:only-of-type {\n",
       "        vertical-align: middle;\n",
       "    }\n",
       "\n",
       "    .dataframe tbody tr th {\n",
       "        vertical-align: top;\n",
       "    }\n",
       "\n",
       "    .dataframe thead th {\n",
       "        text-align: right;\n",
       "    }\n",
       "</style>\n",
       "<table border=\"1\" class=\"dataframe\">\n",
       "  <thead>\n",
       "    <tr style=\"text-align: right;\">\n",
       "      <th></th>\n",
       "      <th>predicted_subscribed</th>\n",
       "      <th>predicted_not</th>\n",
       "    </tr>\n",
       "  </thead>\n",
       "  <tbody>\n",
       "    <tr>\n",
       "      <th>subscribed</th>\n",
       "      <td>527</td>\n",
       "      <td>669</td>\n",
       "    </tr>\n",
       "    <tr>\n",
       "      <th>not_subscribed</th>\n",
       "      <td>226</td>\n",
       "      <td>7721</td>\n",
       "    </tr>\n",
       "  </tbody>\n",
       "</table>\n",
       "</div>"
      ],
      "text/plain": [
       "                predicted_subscribed  predicted_not\n",
       "subscribed                       527            669\n",
       "not_subscribed                   226           7721"
      ]
     },
     "execution_count": 56,
     "metadata": {},
     "output_type": "execute_result"
    }
   ],
   "source": [
    "# Confusion matrix\n",
    "y_pred = log_reg.predict(X_test)\n",
    "con_mat = np.array(confusion_matrix(y_test, y_pred, labels=[1,0]))\n",
    "conf_mat = pd.DataFrame(con_mat, index=['subscribed', 'not_subscribed'],\n",
    "                         columns=['predicted_subscribed','predicted_not'])\n",
    "conf_mat"
   ]
  },
  {
   "cell_type": "code",
   "execution_count": 57,
   "metadata": {},
   "outputs": [
    {
     "data": {
      "text/html": [
       "<div>\n",
       "<style scoped>\n",
       "    .dataframe tbody tr th:only-of-type {\n",
       "        vertical-align: middle;\n",
       "    }\n",
       "\n",
       "    .dataframe tbody tr th {\n",
       "        vertical-align: top;\n",
       "    }\n",
       "\n",
       "    .dataframe thead th {\n",
       "        text-align: right;\n",
       "    }\n",
       "</style>\n",
       "<table border=\"1\" class=\"dataframe\">\n",
       "  <thead>\n",
       "    <tr style=\"text-align: right;\">\n",
       "      <th></th>\n",
       "      <th>class_0</th>\n",
       "      <th>class_1</th>\n",
       "    </tr>\n",
       "  </thead>\n",
       "  <tbody>\n",
       "    <tr>\n",
       "      <th>0</th>\n",
       "      <td>1.0</td>\n",
       "      <td>0.0</td>\n",
       "    </tr>\n",
       "    <tr>\n",
       "      <th>1</th>\n",
       "      <td>1.0</td>\n",
       "      <td>0.0</td>\n",
       "    </tr>\n",
       "  </tbody>\n",
       "</table>\n",
       "</div>"
      ],
      "text/plain": [
       "   class_0  class_1\n",
       "0      1.0      0.0\n",
       "1      1.0      0.0"
      ]
     },
     "execution_count": 57,
     "metadata": {},
     "output_type": "execute_result"
    }
   ],
   "source": [
    "Y_proba = pd.DataFrame(knn.predict_proba(X_test), columns=['class_0' , 'class_1'])\n",
    "Y_proba.head(2)"
   ]
  },
  {
   "cell_type": "code",
   "execution_count": 58,
   "metadata": {},
   "outputs": [
    {
     "data": {
      "image/png": "[encoded data removed]",
      "text/plain": [
       "<matplotlib.figure.Figure at 0x1a203f4250>"
      ]
     },
     "metadata": {},
     "output_type": "display_data"
    }
   ],
   "source": [
    "fpr, tpr, threshold = roc_curve(y_test, Y_proba['class_1'])\n",
    "roc_auc = auc(fpr, tpr)\n",
    "plt.figure(figsize=[8,8])\n",
    "plt.plot(fpr, tpr, label='ROC curve (area = %0.2f)' % roc_auc, linewidth=4)\n",
    "plt.plot([0, 1], [0, 1], 'k--', linewidth=4)\n",
    "plt.xlim([-0.05, 1.0])\n",
    "plt.ylim([-0.05, 1.05])\n",
    "plt.xlabel('False Positive Rate', fontsize=18)\n",
    "plt.ylabel('True Positive Rate', fontsize=18)\n",
    "plt.title('ROC for subscription to term deposits', fontsize=18)\n",
    "plt.legend(loc=\"lower right\")\n",
    "plt.show()"
   ]
  },
  {
   "cell_type": "markdown",
   "metadata": {},
   "source": [
    "### b. KNN"
   ]
  },
  {
   "cell_type": "code",
   "execution_count": 45,
   "metadata": {},
   "outputs": [],
   "source": [
    "from sklearn.neighbors import KNeighborsClassifier\n",
    "from sklearn.model_selection import cross_val_score\n",
    "from sklearn.model_selection import StratifiedKFold\n",
    "from sklearn.preprocessing import RobustScaler\n",
    "from sklearn.metrics import confusion_matrix\n",
    "from sklearn.metrics import roc_curve, auc"
   ]
  },
  {
   "cell_type": "code",
   "execution_count": 41,
   "metadata": {},
   "outputs": [
    {
     "name": "stdout",
     "output_type": "stream",
     "text": [
      "[0.89081537 0.87956888 0.89967182 0.88842007 0.88935771 0.89404594\n",
      " 0.89592124 0.89217065 0.89685888 0.89774859]\n",
      "0.8924579167528339\n"
     ]
    }
   ],
   "source": [
    "knn = KNeighborsClassifier(n_neighbors=10)\n",
    "score = cross_val_score(knn,X_train,y_train,cv=10)\n",
    "print(score)\n",
    "print np.mean(score)"
   ]
  },
  {
   "cell_type": "code",
   "execution_count": 53,
   "metadata": {},
   "outputs": [
    {
     "data": {
      "text/html": [
       "<div>\n",
       "<style scoped>\n",
       "    .dataframe tbody tr th:only-of-type {\n",
       "        vertical-align: middle;\n",
       "    }\n",
       "\n",
       "    .dataframe tbody tr th {\n",
       "        vertical-align: top;\n",
       "    }\n",
       "\n",
       "    .dataframe thead th {\n",
       "        text-align: right;\n",
       "    }\n",
       "</style>\n",
       "<table border=\"1\" class=\"dataframe\">\n",
       "  <thead>\n",
       "    <tr style=\"text-align: right;\">\n",
       "      <th></th>\n",
       "      <th>predicted_subscribed</th>\n",
       "      <th>predicted_not</th>\n",
       "    </tr>\n",
       "  </thead>\n",
       "  <tbody>\n",
       "    <tr>\n",
       "      <th>subscribed</th>\n",
       "      <td>430</td>\n",
       "      <td>766</td>\n",
       "    </tr>\n",
       "    <tr>\n",
       "      <th>not_subscribed</th>\n",
       "      <td>184</td>\n",
       "      <td>7763</td>\n",
       "    </tr>\n",
       "  </tbody>\n",
       "</table>\n",
       "</div>"
      ],
      "text/plain": [
       "                predicted_subscribed  predicted_not\n",
       "subscribed                       430            766\n",
       "not_subscribed                   184           7763"
      ]
     },
     "execution_count": 53,
     "metadata": {},
     "output_type": "execute_result"
    }
   ],
   "source": [
    "# Confusion matrix\n",
    "knn.fit(X_train, y_train)\n",
    "y_pred1 = knn.predict(X_test)\n",
    "con_mat = np.array(confusion_matrix(y_test, y_pred1, labels=[1,0]))\n",
    "conf_mat = pd.DataFrame(con_mat, index=['subscribed', 'not_subscribed'],\n",
    "                         columns=['predicted_subscribed','predicted_not'])\n",
    "conf_mat"
   ]
  },
  {
   "cell_type": "code",
   "execution_count": 54,
   "metadata": {},
   "outputs": [
    {
     "data": {
      "text/html": [
       "<div>\n",
       "<style scoped>\n",
       "    .dataframe tbody tr th:only-of-type {\n",
       "        vertical-align: middle;\n",
       "    }\n",
       "\n",
       "    .dataframe tbody tr th {\n",
       "        vertical-align: top;\n",
       "    }\n",
       "\n",
       "    .dataframe thead th {\n",
       "        text-align: right;\n",
       "    }\n",
       "</style>\n",
       "<table border=\"1\" class=\"dataframe\">\n",
       "  <thead>\n",
       "    <tr style=\"text-align: right;\">\n",
       "      <th></th>\n",
       "      <th>class_0</th>\n",
       "      <th>class_1</th>\n",
       "    </tr>\n",
       "  </thead>\n",
       "  <tbody>\n",
       "    <tr>\n",
       "      <th>0</th>\n",
       "      <td>1.0</td>\n",
       "      <td>0.0</td>\n",
       "    </tr>\n",
       "    <tr>\n",
       "      <th>1</th>\n",
       "      <td>1.0</td>\n",
       "      <td>0.0</td>\n",
       "    </tr>\n",
       "  </tbody>\n",
       "</table>\n",
       "</div>"
      ],
      "text/plain": [
       "   class_0  class_1\n",
       "0      1.0      0.0\n",
       "1      1.0      0.0"
      ]
     },
     "execution_count": 54,
     "metadata": {},
     "output_type": "execute_result"
    }
   ],
   "source": [
    "Y_proba = pd.DataFrame(knn.predict_proba(X_test), columns=['class_0' , 'class_1'])\n",
    "Y_proba.head(2)"
   ]
  },
  {
   "cell_type": "code",
   "execution_count": 55,
   "metadata": {},
   "outputs": [
    {
     "data": {
      "image/png": "[encoded data removed]",
      "text/plain": [
       "<matplotlib.figure.Figure at 0x1a201abc10>"
      ]
     },
     "metadata": {},
     "output_type": "display_data"
    }
   ],
   "source": [
    "fpr, tpr, threshold = roc_curve(y_test, Y_proba['class_1'])\n",
    "roc_auc = auc(fpr, tpr)\n",
    "plt.figure(figsize=[8,8])\n",
    "plt.plot(fpr, tpr, label='ROC curve (area = %0.2f)' % roc_auc, linewidth=4)\n",
    "plt.plot([0, 1], [0, 1], 'k--', linewidth=4)\n",
    "plt.xlim([-0.05, 1.0])\n",
    "plt.ylim([-0.05, 1.05])\n",
    "plt.xlabel('False Positive Rate', fontsize=18)\n",
    "plt.ylabel('True Positive Rate', fontsize=18)\n",
    "plt.title('ROC for subscription to term deposits', fontsize=18)\n",
    "plt.legend(loc=\"lower right\")\n",
    "plt.show()"
   ]
  },
  {
   "cell_type": "code",
   "execution_count": null,
   "metadata": {},
   "outputs": [],
   "source": []
  }
 ],
 "metadata": {
  "kernelspec": {
   "display_name": "Python 2",
   "language": "python",
   "name": "python2"
  },
  "language_info": {
   "codemirror_mode": {
    "name": "ipython",
    "version": 2
   },
   "file_extension": ".py",
   "mimetype": "text/x-python",
   "name": "python",
   "nbconvert_exporter": "python",
   "pygments_lexer": "ipython2",
   "version": "2.7.14"
  }
 },
 "nbformat": 4,
 "nbformat_minor": 2
}
