{
 "cells": [
  {
   "cell_type": "markdown",
   "metadata": {},
   "source": [
    "# `Project 2: Demonstrating Exploratory Data Analysis`"
   ]
  },
  {
   "cell_type": "markdown",
   "metadata": {},
   "source": [
    "### <font color='blue'> __Purpose:__</font>\n",
    "- The intent of this project is to demonstrate the importance & insightful capabilities of performing Exploratory Data Analysis (EDA)."
   ]
  },
  {
   "cell_type": "markdown",
   "metadata": {},
   "source": [
    "### <font color='blue'> __Objectives:__</font>\n",
    "1. Provide appropriately-labelled graphical visuals to enhance understanding of data.\n",
    "2. Interpret descriptive statistics.\n",
    "3. Formulate sound assumptions & justify observations with concrete statistical hypothesis testing."
   ]
  },
  {
   "cell_type": "markdown",
   "metadata": {},
   "source": [
    "### <font color='blue'> __Why EDA?__</font>\n",
    "\n",
    "1. Gives you an opportunity to familiarise yourself with the data.\n",
    "2. Understand the distribution of the population and detect for any strange behaviour (outliers).\n",
    "3. Allows one to explore relationships between variables.\n",
    "4. Test these observed relationships/hypothesis for any statistical significance so as to provide meaningful business insights.\n",
    "5. Provides preliminary ideas as to how we can potential employ various Machine Learning Models."
   ]
  },
  {
   "cell_type": "markdown",
   "metadata": {},
   "source": [
    "### <font color='blue'> __What does it entail?__</font>\n",
    "\n",
    "1. Get a high-level overview of the distribution of the dataset & detect for the presence of any outliers.\n",
    "> Examples: .describe( ) and boxplots\n",
    "2. Derive & identify meaningful observations/relationships btwn variables.\n",
    "> Examples: .corr( ), Seaborn's pairplot & heatmap\n",
    "3. Prove to see if there is statistical significance in those relationships observed.\n",
    "> Examples: T-test, chi-square test etc."
   ]
  },
  {
   "cell_type": "markdown",
   "metadata": {},
   "source": [
    "### <font color='blue'> __Codes are in Python & the following libraries:__</font>\n",
    "1. Pandas\n",
    "2. NumPy\n",
    "3. SciPy\n",
    "4. Seaborn\n",
    "5. Matplotlib"
   ]
  },
  {
   "cell_type": "markdown",
   "metadata": {},
   "source": [
    "### <font color='blue'> __Problem Statement:__</font>\n",
    "\n",
    "Imagine you are a data scientist working for a real estate company.\n",
    "The company's main aim is to purchase houses at a lower price and at the same time, does not cost much to renovate based on its current condition.\n",
    "Your team lead has divided the project into 2 parts:\n",
    "1. Predicting the value of housing prices based on fixed characteristics (i.e. characteristics which cannot be renovated).\n",
    "2. Identifying renovatable characteristics which bear a lower cost.\n",
    "\n",
    "You and your team are tasked to work on the _first part_.\n",
    "<br>The complete dataset can be found at __[Kaggle: House Prices - Advanced Regression Techniques](https://www.kaggle.com/c/house-prices-advanced-regression-techniques)__"
   ]
  },
  {
   "cell_type": "markdown",
   "metadata": {},
   "source": [
    "***\n",
    "***"
   ]
  },
  {
   "cell_type": "code",
   "execution_count": 11,
   "metadata": {},
   "outputs": [],
   "source": [
    "import pandas as pd\n",
    "import numpy as np\n",
    "import scipy.stats as stats\n",
    "from scipy.stats import t\n",
    "\n",
    "import matplotlib.pyplot as plt\n",
    "plt.style.use('fivethirtyeight')\n",
    "%matplotlib inline\n",
    "%config InlineBackend.figure_format ='retina'\n",
    "\n",
    "import seaborn as sns\n",
    "sns.set_style('whitegrid')\n",
    "\n",
    "from ipywidgets import *\n",
    "from IPython.display import display"
   ]
  },
  {
   "cell_type": "markdown",
   "metadata": {},
   "source": [
    "__Note:__\n",
    "<br> The dataset we are about to import has been \"cleaned\".\n",
    "<br> If you would like to see how I carried out the data munging process for this dataset,\n",
    "please refer to `Project 1: Demonstrating Data Munging`."
   ]
  },
  {
   "cell_type": "code",
   "execution_count": null,
   "metadata": {},
   "outputs": [],
   "source": [
    "# Importing the dataset.\n"
   ]
  },
  {
   "cell_type": "markdown",
   "metadata": {},
   "source": [
    "## <font color=pink> __Step 1:__</font>"
   ]
  },
  {
   "cell_type": "code",
   "execution_count": null,
   "metadata": {},
   "outputs": [],
   "source": []
  },
  {
   "cell_type": "code",
   "execution_count": null,
   "metadata": {},
   "outputs": [],
   "source": [
    "# Step 1: Get a high-level overview of the dataset.\n",
    "\n",
    "# .describe and boxplots to see if distribution is normal,\n",
    "# and explain any outliers, how is it interpreted and dealth with."
   ]
  },
  {
   "cell_type": "code",
   "execution_count": null,
   "metadata": {},
   "outputs": [],
   "source": [
    "# Step 2: derive & identify meaningful relationships btwn variables.\n",
    "\n",
    "# .corr, .pairplot, heatmap"
   ]
  },
  {
   "cell_type": "code",
   "execution_count": null,
   "metadata": {},
   "outputs": [],
   "source": [
    "# Step 3: Prove to see if there is statistical significance in those relationships observed."
   ]
  },
  {
   "cell_type": "markdown",
   "metadata": {},
   "source": [
    "***\n",
    "***\n",
    "***"
   ]
  },
  {
   "cell_type": "code",
   "execution_count": null,
   "metadata": {},
   "outputs": [],
   "source": [
    ".describe()"
   ]
  },
  {
   "cell_type": "code",
   "execution_count": null,
   "metadata": {},
   "outputs": [],
   "source": [
    "# Boxplot for outliers\n",
    "fig = plt.figure(figsize=(6,4))\n",
    "ax = fig.gca()\n",
    "\n",
    "ax = sns.boxplot(boston.rate_of_crime, orient='v',\n",
    "                fliersize=8, linewidth=1.5, notch=True,\n",
    "                saturation=0.5, ax=ax)\n",
    "\n",
    "ax.set_ylabel('rate_of_crime', fontsize=16)\n",
    "ax.set_title('Rate of crime boxplot\\n', fontsize=20)\n",
    "\n",
    "plt.show()"
   ]
  },
  {
   "cell_type": "code",
   "execution_count": null,
   "metadata": {},
   "outputs": [],
   "source": [
    "# Plotting all standardised boxplots for outliers.\n",
    "boston_stand = (boston - boston.mean()) / boston.std()\n",
    "\n",
    "fig = plt.figure(figsize=(15, 7))\n",
    "ax = fig.gca()\n",
    "\n",
    "ax = sns.boxplot(data=boston_stand, orient='h', fliersize=5, \n",
    "                 linewidth=3, notch=True, saturation=0.5, ax=ax)\n",
    "plt.show()"
   ]
  },
  {
   "cell_type": "code",
   "execution_count": null,
   "metadata": {},
   "outputs": [],
   "source": [
    "#Correlation\n",
    "boston.corr()\n",
    "sns.heatmap (half of it)"
   ]
  },
  {
   "cell_type": "code",
   "execution_count": null,
   "metadata": {},
   "outputs": [],
   "source": [
    "# sns.pairplot\n",
    "# sns.heatmap"
   ]
  },
  {
   "cell_type": "code",
   "execution_count": null,
   "metadata": {},
   "outputs": [],
   "source": [
    "# Plotting afew things at one go.\n",
    "fig, axes = plt.subplots(2,2, figsize=(16,8))\n",
    "df['col2'].plot(figsize=(16,4), color='purple', fontsize=21, ax=axes[0][0])"
   ]
  }
 ],
 "metadata": {
  "kernelspec": {
   "display_name": "Python 2",
   "language": "python",
   "name": "python2"
  },
  "language_info": {
   "codemirror_mode": {
    "name": "ipython",
    "version": 2
   },
   "file_extension": ".py",
   "mimetype": "text/x-python",
   "name": "python",
   "nbconvert_exporter": "python",
   "pygments_lexer": "ipython2",
   "version": "2.7.14"
  }
 },
 "nbformat": 4,
 "nbformat_minor": 2
}
