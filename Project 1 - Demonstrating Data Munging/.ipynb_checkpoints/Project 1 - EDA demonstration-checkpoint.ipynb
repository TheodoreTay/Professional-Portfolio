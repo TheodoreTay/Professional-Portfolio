{
 "cells": [
  {
   "cell_type": "markdown",
   "metadata": {},
   "source": [
    "# `Project 1: Demonstrating Data Munging`"
   ]
  },
  {
   "cell_type": "markdown",
   "metadata": {},
   "source": [
    "### <font color='blue'> __Purpose of this project:__</font>\n",
    "- The intent of this project is to demonstrate the importance & powerful capabilities of executing rigorous data cleaning (synonymously known as \"data munging\")."
   ]
  },
  {
   "cell_type": "markdown",
   "metadata": {},
   "source": [
    "### <font color='blue'> __Rationale for executing rigorous data munging:__</font>\n",
    "1. Your results are a direct translation of your data.\n",
    "> That means that clean data = meaningful results.\n",
    "2. Understanding how you \"munged\" your data also allows you to explain to business clients why the results turned out in a certain way.\n",
    "> At times, you may be asked to clean it differently, to draw other forms of meaningful conclusions.\n",
    "3. In a team environment, transfer of data files for collaborative work is common. It is part of a responsible data scientist to produce a clean set of data that is \"legible\" and easy to work with.\n",
    "> This translates to workflow efficiency as well."
   ]
  },
  {
   "cell_type": "markdown",
   "metadata": {},
   "source": [
    "### <font color='blue'> __What does data munging entail?__</font>\n",
    "1. Rename inappropriately-labelled column names\n",
    "2. Removing duplicates\n",
    "3. Addressing missing/nan values. Do we want to drop, fill or impute them?\n",
    "4. Remove unwanted characters, spaces etc.\n",
    "5. Convert columns to suitable data types e.g. interger to float\n",
    "6. Feature engineering (though this step could very well fall under the EDA process)"
   ]
  },
  {
   "cell_type": "markdown",
   "metadata": {},
   "source": [
    "### <font color='blue'> __Codes are in Python & the following libraries associated with it:__</font>\n",
    "1. Pandas\n",
    "2. NumPy"
   ]
  },
  {
   "cell_type": "markdown",
   "metadata": {},
   "source": [
    "### <font color='blue'> __Problem Statement:__</font>\n",
    "\n",
    "Imagine you are a data scientist working for a real estate company.\n",
    "The company's main aim is to purchase houses at a lower price and at the same time, does not cost much to renovate based on its current condition.\n",
    "Your team lead has divided the project into 2 parts:\n",
    "1. Predicting the value of housing prices based on fixed characteristics (i.e. characteristics which cannot be renovated).\n",
    "2. Identifying renovatable characteristics which bear a lower cost.\n",
    "\n",
    "You and your team are tasked to work on the _first part_.\n",
    "<br>The complete dataset can be found at __[Kaggle: House Prices - Advanced Regression Techniques](https://www.kaggle.com/c/house-prices-advanced-regression-techniques)__"
   ]
  },
  {
   "cell_type": "markdown",
   "metadata": {},
   "source": [
    "***\n",
    "***"
   ]
  },
  {
   "cell_type": "markdown",
   "metadata": {},
   "source": [
    "## <font color=pink> __Step 1: Detect for any duplicates__</font>"
   ]
  },
  {
   "cell_type": "code",
   "execution_count": 1,
   "metadata": {},
   "outputs": [],
   "source": [
    "import pandas as pd\n",
    "import numpy as np"
   ]
  },
  {
   "cell_type": "code",
   "execution_count": 2,
   "metadata": {},
   "outputs": [],
   "source": [
    "# Importing our Property data.\n",
    "# For the purpose of the demonstration, we will be using a down-sized dataaset.\n",
    "property_table = pd.read_csv('./Property Dataset (66rows).csv')"
   ]
  },
  {
   "cell_type": "code",
   "execution_count": 3,
   "metadata": {},
   "outputs": [
    {
     "data": {
      "text/plain": [
       "(1460, 66)"
      ]
     },
     "execution_count": 3,
     "metadata": {},
     "output_type": "execute_result"
    }
   ],
   "source": [
    "property_table.shape"
   ]
  },
  {
   "cell_type": "code",
   "execution_count": 5,
   "metadata": {},
   "outputs": [
    {
     "data": {
      "text/plain": [
       "False    1460\n",
       "dtype: int64"
      ]
     },
     "execution_count": 5,
     "metadata": {},
     "output_type": "execute_result"
    }
   ],
   "source": [
    "property_table.duplicated().value_counts()"
   ]
  },
  {
   "cell_type": "markdown",
   "metadata": {},
   "source": [
    "__[Comments]__\n",
    "<br>\n",
    "There are no duplicates present."
   ]
  },
  {
   "cell_type": "markdown",
   "metadata": {},
   "source": [
    "***"
   ]
  },
  {
   "cell_type": "markdown",
   "metadata": {},
   "source": [
    "## <font color=pink>__Step 2 & 3: Address missing/nan values & Amend data types__</font>"
   ]
  },
  {
   "cell_type": "markdown",
   "metadata": {},
   "source": [
    "__Note:__ As there are too many columns to focus on, this part of the munging process will be carried out in subset rows of 20.\n",
    "<br>Concurrently, fixed characteristics will be identified for future Machine Learning processes."
   ]
  },
  {
   "cell_type": "code",
   "execution_count": 45,
   "metadata": {
    "scrolled": false
   },
   "outputs": [
    {
     "name": "stdout",
     "output_type": "stream",
     "text": [
      "<class 'pandas.core.frame.DataFrame'>\n",
      "Int64Index: 1459 entries, 0 to 1459\n",
      "Data columns (total 20 columns):\n",
      "MSSubClass      1459 non-null int64\n",
      "MSZoning        1459 non-null object\n",
      "LotFrontage     1459 non-null float64\n",
      "LotArea         1459 non-null int64\n",
      "Street          1459 non-null object\n",
      "LotShape        1459 non-null object\n",
      "LandContour     1459 non-null object\n",
      "Utilities       1459 non-null object\n",
      "LotConfig       1459 non-null object\n",
      "LandSlope       1459 non-null object\n",
      "Neighborhood    1459 non-null object\n",
      "Condition1      1459 non-null object\n",
      "Condition2      1459 non-null object\n",
      "BldgType        1459 non-null object\n",
      "HouseStyle      1459 non-null object\n",
      "OverallQual     1459 non-null int64\n",
      "OverallCond     1459 non-null int64\n",
      "YearBuilt       1459 non-null int64\n",
      "YearRemodAdd    1459 non-null int64\n",
      "RoofStyle       1459 non-null object\n",
      "dtypes: float64(1), int64(6), object(13)\n",
      "memory usage: 239.4+ KB\n"
     ]
    }
   ],
   "source": [
    "# Analysing the first 20 columns.\n",
    "property_table.iloc[:,:20].info()"
   ]
  },
  {
   "cell_type": "code",
   "execution_count": 8,
   "metadata": {},
   "outputs": [],
   "source": [
    "# Dropping irrelevant columns.\n",
    "property_table = property_table.drop(columns=['Unnamed: 0', 'Id', 'Alley'],axis=1)"
   ]
  },
  {
   "cell_type": "code",
   "execution_count": 9,
   "metadata": {},
   "outputs": [
    {
     "data": {
      "text/plain": [
       "count    1201.000000\n",
       "mean       70.049958\n",
       "std        24.284752\n",
       "min        21.000000\n",
       "25%        59.000000\n",
       "50%        69.000000\n",
       "75%        80.000000\n",
       "max       313.000000\n",
       "Name: LotFrontage, dtype: float64"
      ]
     },
     "execution_count": 9,
     "metadata": {},
     "output_type": "execute_result"
    }
   ],
   "source": [
    "property_table['LotFrontage'].describe()"
   ]
  },
  {
   "cell_type": "code",
   "execution_count": 10,
   "metadata": {},
   "outputs": [],
   "source": [
    "# Based on Central Limit Theorem, the distribution is assumed to be normal.\n",
    "# Also, the mean and median are rougly similar. Hence, we can fill null values with mean of the column.\n",
    "property_table['LotFrontage'] = property_table['LotFrontage'].fillna(value=np.mean(property_table['LotFrontage']))"
   ]
  },
  {
   "cell_type": "markdown",
   "metadata": {},
   "source": [
    "__[Comments]__\n",
    "<br>Columns dropped:\n",
    "<br> - Unnamed: 0, Id, Alley\n",
    "<br>\n",
    "<br>Fixed characteristics:\n",
    "<br> - MSSubClass, MSZoning, LotFrontage, LotArea, Street, LandContour,Utilities, LotConfig,Neighborhood, Condition1, Condition1, BldgType, HouseStyle, OverallQual, OverallCond\n",
    "<br>\n",
    "<br>Null values:\n",
    "<br> - LotFrontage (filled with mean)\n",
    "<br>\n",
    "<br>Data types:\n",
    "<br> - All appropriate."
   ]
  },
  {
   "cell_type": "code",
   "execution_count": 11,
   "metadata": {},
   "outputs": [
    {
     "name": "stdout",
     "output_type": "stream",
     "text": [
      "<class 'pandas.core.frame.DataFrame'>\n",
      "RangeIndex: 1460 entries, 0 to 1459\n",
      "Data columns (total 23 columns):\n",
      "YearBuilt       1460 non-null int64\n",
      "YearRemodAdd    1460 non-null int64\n",
      "RoofStyle       1460 non-null object\n",
      "RoofMatl        1460 non-null object\n",
      "Exterior1st     1460 non-null object\n",
      "Exterior2nd     1460 non-null object\n",
      "MasVnrType      1452 non-null object\n",
      "MasVnrArea      1452 non-null float64\n",
      "ExterQual       1460 non-null object\n",
      "ExterCond       1460 non-null object\n",
      "Foundation      1460 non-null object\n",
      "BsmtQual        1423 non-null object\n",
      "BsmtCond        1423 non-null object\n",
      "BsmtExposure    1422 non-null object\n",
      "BsmtFinType1    1423 non-null object\n",
      "BsmtFinSF1      1460 non-null int64\n",
      "BsmtFinType2    1422 non-null object\n",
      "BsmtFinSF2      1460 non-null int64\n",
      "BsmtUnfSF       1460 non-null int64\n",
      "TotalBsmtSF     1460 non-null int64\n",
      "Heating         1460 non-null object\n",
      "HeatingQC       1460 non-null object\n",
      "CentralAir      1460 non-null object\n",
      "dtypes: float64(1), int64(6), object(16)\n",
      "memory usage: 262.4+ KB\n"
     ]
    }
   ],
   "source": [
    "# Analysing the next 23 columns.\n",
    "property_table.iloc[:,17:40].info()"
   ]
  },
  {
   "cell_type": "markdown",
   "metadata": {},
   "source": [
    "_Feature engineering_\n",
    "<br>The column 'YearRemodAdd' refers to the year (if any) that the house was being renovated.\n",
    "<br>However, it is not particularly useful to leave it as is because the column is currently interpreted in terms of its absolutely value.\n",
    "<br>This shouldn't be the case as the 'YearBuilt' is provided, and that the 'YearRemodAdd' column should be reengineered, relative to the year it was built."
   ]
  },
  {
   "cell_type": "code",
   "execution_count": 12,
   "metadata": {},
   "outputs": [],
   "source": [
    "# Dropping irrelevant columns.\n",
    "property_table = property_table.drop(labels=['BsmtExposure', 'BsmtFinType1', 'BsmtFinSF1', 'BsmtFinType2', 'BsmtFinSF2','MasVnrType','MasVnrArea'], axis=1)"
   ]
  },
  {
   "cell_type": "code",
   "execution_count": 13,
   "metadata": {},
   "outputs": [],
   "source": [
    "# Feature engineering.\n",
    "property_table['YearsRenoed'] = property_table['YearRemodAdd']-property_table['YearBuilt']"
   ]
  },
  {
   "cell_type": "code",
   "execution_count": 27,
   "metadata": {
    "scrolled": true
   },
   "outputs": [],
   "source": [
    "# [BsmtQual, BsmtCond contain null values]\n",
    "# If you refer to the Data Dictionary File (in the current directory), its null values\n",
    "# basically refers to the fact that these houses do not have a basement to begin with & consequently,\n",
    "# do not have a value for basement condition.\n",
    "# Instead of dropping Nan values, I would reassign them to a category called \"No_basement\".\n",
    "property_table['BsmtQual'] = property_table['BsmtQual'].fillna(value='No_basement')\n",
    "property_table['BsmtCond'] = property_table['BsmtCond'].fillna(value='No_basement')"
   ]
  },
  {
   "cell_type": "code",
   "execution_count": 28,
   "metadata": {},
   "outputs": [
    {
     "data": {
      "text/plain": [
       "array(['TA', 'Gd', 'No_basement', 'Fa', 'Po'], dtype=object)"
      ]
     },
     "execution_count": 28,
     "metadata": {},
     "output_type": "execute_result"
    }
   ],
   "source": [
    "property_table['BsmtCond'].unique()"
   ]
  },
  {
   "cell_type": "markdown",
   "metadata": {},
   "source": [
    "__[Comments]__\n",
    "<br>Columns dropped:\n",
    "<br> - BsmtExposure, BsmtFinType1, BsmtFinSF1, BsmtFinType2, BsmtFinSF2, MasVnrType, MasVnrArea\n",
    "<br>\n",
    "<br>Fixed characteristics:\n",
    "<br> - YearBuilt, YearsRenoed, Exterior1st, Exterior2nd, ExterQual, ExterCond, Foundation, TotalBsmtSF, HeatingQC, CentralAir, BsmtQual, BsmtCond\n",
    "<br>\n",
    "<br>Feature Engineering:\n",
    "<br> - YearsRenoed\n",
    "<br>\n",
    "<br>Data types:\n",
    "<br> - All appropriate."
   ]
  },
  {
   "cell_type": "code",
   "execution_count": 61,
   "metadata": {},
   "outputs": [
    {
     "name": "stdout",
     "output_type": "stream",
     "text": [
      "<class 'pandas.core.frame.DataFrame'>\n",
      "RangeIndex: 1460 entries, 0 to 1459\n",
      "Data columns (total 24 columns):\n",
      "Electrical       1459 non-null object\n",
      "1stFlrSF         1460 non-null int64\n",
      "2ndFlrSF         1460 non-null int64\n",
      "LowQualFinSF     1460 non-null int64\n",
      "GrLivArea        1460 non-null int64\n",
      "BsmtFullBath     1460 non-null int64\n",
      "BsmtHalfBath     1460 non-null int64\n",
      "FullBath         1460 non-null int64\n",
      "HalfBath         1460 non-null int64\n",
      "BedroomAbvGr     1460 non-null int64\n",
      "KitchenAbvGr     1460 non-null int64\n",
      "KitchenQual      1460 non-null object\n",
      "TotRmsAbvGrd     1460 non-null int64\n",
      "Functional       1460 non-null object\n",
      "Fireplaces       1460 non-null int64\n",
      "FireplaceQu      770 non-null object\n",
      "GarageType       1379 non-null object\n",
      "GarageYrBlt      1379 non-null float64\n",
      "GarageArea       1460 non-null int64\n",
      "GarageCond       1379 non-null object\n",
      "SaleCondition    1460 non-null object\n",
      "PavedDrive       1460 non-null object\n",
      "SalePrice        1460 non-null int64\n",
      "YearsRenoed      1460 non-null int64\n",
      "dtypes: float64(1), int64(15), object(8)\n",
      "memory usage: 273.8+ KB\n"
     ]
    }
   ],
   "source": [
    "# Analysing the last 24 columns.\n",
    "property_table.iloc[:,40:].info()"
   ]
  },
  {
   "cell_type": "code",
   "execution_count": 33,
   "metadata": {},
   "outputs": [],
   "source": [
    "# Drop irrelevant columns.\n",
    "property_table = property_table.drop(labels=['FireplaceQu', 'GarageYrBlt'],axis=1)"
   ]
  },
  {
   "cell_type": "code",
   "execution_count": 40,
   "metadata": {},
   "outputs": [],
   "source": [
    "# Replacing null values in GarageCond with 'No_garage'.\n",
    "# The reason for this is the same as BsmtQual, BsmtCond. Please refer above.\n",
    "property_table['GarageCond'] = property_table['GarageCond'].fillna(value='No_garage')\n",
    "property_table['GarageType'] = property_table['GarageType'].fillna(value='No_garage')"
   ]
  },
  {
   "cell_type": "code",
   "execution_count": 43,
   "metadata": {},
   "outputs": [],
   "source": [
    "# Drop columns containing null values for 'Electrical'.\n",
    "property_table = property_table.dropna(subset=['Electrical'])"
   ]
  },
  {
   "cell_type": "markdown",
   "metadata": {},
   "source": [
    "__[Comments]__\n",
    "<br>Columns dropped:\n",
    "<br> - FireplaceQu, GarageYrBlt\n",
    "<br>\n",
    "<br>Fixed characteristics:\n",
    "<br> - 1stFlrSF, 2ndFlrSF, GarageType, GarageArea, GarageCond, PavedDrive\n",
    "<br>\n",
    "<br>Null values:\n",
    "<br> - Electrical\n",
    "<br>\n",
    "<br>Data types:\n",
    "<br> - All appropriate."
   ]
  },
  {
   "cell_type": "markdown",
   "metadata": {},
   "source": [
    "***"
   ]
  },
  {
   "cell_type": "markdown",
   "metadata": {},
   "source": [
    "## <font color=pink> __Step 4: Removing unwanted characters, spaces__</font>"
   ]
  },
  {
   "cell_type": "markdown",
   "metadata": {},
   "source": [
    "__Note__:\n",
    "<br> This dataset is generally quite clean & contains no unwanted characters or spaces.\n",
    "<br> Instead, datasets containing large chunks of text, mainly for NLP, usually have plenty of unwanted characters or spaces.\n",
    "<br> In this part of the munging, I will outline certain codes I would use for the purpose of demonstration."
   ]
  },
  {
   "cell_type": "markdown",
   "metadata": {},
   "source": [
    "__[Codes]__\n",
    "<br> Removing one unwanted character in a string:\n",
    "<br> df['column_name'] = df['column_name'] .str.replace('$', '')\n",
    "<br> \n",
    "<br> Replacing multiple irrelevant values in a column:\n",
    "<br> df['column_name'] = df['column_name'].map(lambda x: np.nan if x == '?' else float(x))\n",
    "<br> \n",
    "<br> Removing white space:\n",
    "<br> df['column_name'] = df['column_name'].strip( )"
   ]
  },
  {
   "cell_type": "markdown",
   "metadata": {},
   "source": [
    "***"
   ]
  },
  {
   "cell_type": "markdown",
   "metadata": {},
   "source": [
    "## <font color=pink> __Step 5: Amend inappropriately labelled characters__</font>"
   ]
  },
  {
   "cell_type": "markdown",
   "metadata": {},
   "source": [
    "__Note__:\n",
    "<br> The columns are well labelled so there is no need for amendments in this case.\n",
    "<br> In this part of the munging, I will outline certain codes I would use for the purpose of demonstration."
   ]
  },
  {
   "cell_type": "code",
   "execution_count": null,
   "metadata": {},
   "outputs": [],
   "source": [
    "# Method 1: Renaming individual column names.\n",
    "dataframe.rename(columns={'original' : 'new'}, inplace=True)\n",
    "\n",
    "# Method 2: List replacement method for renaming all the column names.\n",
    "new_colnames = ['col_1', 'col_2','col_3']\n",
    "dataframe.columns = new_colnames\n",
    "\n",
    "# Removing space in column names.\n",
    "df.columns = df.columns.str.replace(' ','_')"
   ]
  },
  {
   "cell_type": "markdown",
   "metadata": {},
   "source": [
    "***"
   ]
  },
  {
   "cell_type": "markdown",
   "metadata": {},
   "source": [
    "## <font color=pink> __Summary__</font>"
   ]
  },
  {
   "cell_type": "markdown",
   "metadata": {},
   "source": [
    "<br> 1. We have concluded Data Munging to an acceptable standard.\n",
    "<br>\n",
    "<br> 2. We have identified our \"Fixed Characteristics\" for predicting property prices.\n",
    "<br> They are:\n",
    "<br> MSSubClass, MSZoning, LotFrontage, LotArea, Street, LandContour,Utilities, LotConfig,Neighborhood, Condition1, Condition1, BldgType, HouseStyle, OverallQual, OverallCond, YearBuilt, YearsRenoed, Exterior1st, Exterior2nd, ExterQual, ExterCond, Foundation, TotalBsmtSF, HeatingQC, CentralAir, BsmtQual, BsmtCond, 1stFlrSF, 2ndFlrSF, GarageType, GarageArea, GarageCond, PavedDrive \n",
    "<br>\n",
    "<br> 3. We are ready to export our _cleaned_ dataset as a .csv file."
   ]
  },
  {
   "cell_type": "code",
   "execution_count": 64,
   "metadata": {},
   "outputs": [],
   "source": [
    "# Exporting dataset as a .csv file\n",
    "property_table.to_csv('Property Dataset (Cleaned).csv')"
   ]
  },
  {
   "cell_type": "markdown",
   "metadata": {},
   "source": [
    "***\n",
    "***"
   ]
  }
 ],
 "metadata": {
  "kernelspec": {
   "display_name": "Python 2",
   "language": "python",
   "name": "python2"
  },
  "language_info": {
   "codemirror_mode": {
    "name": "ipython",
    "version": 2
   },
   "file_extension": ".py",
   "mimetype": "text/x-python",
   "name": "python",
   "nbconvert_exporter": "python",
   "pygments_lexer": "ipython2",
   "version": "2.7.14"
  }
 },
 "nbformat": 4,
 "nbformat_minor": 2
}
